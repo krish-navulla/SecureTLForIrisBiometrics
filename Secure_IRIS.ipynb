{
  "nbformat": 4,
  "nbformat_minor": 0,
  "metadata": {
    "colab": {
      "provenance": [],
      "machine_shape": "hm",
      "gpuType": "V100",
      "include_colab_link": true
    },
    "kernelspec": {
      "name": "python3",
      "display_name": "Python 3"
    },
    "language_info": {
      "name": "python"
    },
    "gpuClass": "premium",
    "accelerator": "GPU"
  },
  "cells": [
    {
      "cell_type": "markdown",
      "metadata": {
        "id": "view-in-github",
        "colab_type": "text"
      },
      "source": [
        "<a href=\"https://colab.research.google.com/github/krish-navulla/SecureTLForIrisBiometrics/blob/main/Secure_IRIS.ipynb\" target=\"_parent\"><img src=\"https://colab.research.google.com/assets/colab-badge.svg\" alt=\"Open In Colab\"/></a>"
      ]
    },
    {
      "cell_type": "markdown",
      "source": [
        "# Google Drive Mounting and Git cloning"
      ],
      "metadata": {
        "id": "cSrezo5OhZHx"
      }
    },
    {
      "cell_type": "code",
      "source": [
        "from google.colab import drive\n",
        "drive.mount('/content/drive')"
      ],
      "metadata": {
        "colab": {
          "base_uri": "https://localhost:8080/"
        },
        "id": "djk1RbS7hLg3",
        "outputId": "8f66076d-50ab-416a-d100-12c67acc4fa4"
      },
      "execution_count": 1,
      "outputs": [
        {
          "output_type": "stream",
          "name": "stdout",
          "text": [
            "Mounted at /content/drive\n"
          ]
        }
      ]
    },
    {
      "cell_type": "code",
      "source": [
        "!git clone https://github.com/krish-navulla/SecureTLForIrisBiometrics.git\n"
      ],
      "metadata": {
        "colab": {
          "base_uri": "https://localhost:8080/"
        },
        "id": "5HtntNMsRHCR",
        "outputId": "ef920749-4907-4fab-c782-fc6c1f6736fd"
      },
      "execution_count": 2,
      "outputs": [
        {
          "output_type": "stream",
          "name": "stdout",
          "text": [
            "Cloning into 'SecureTLForIrisBiometrics'...\n",
            "remote: Enumerating objects: 162, done.\u001b[K\n",
            "remote: Counting objects: 100% (162/162), done.\u001b[K\n",
            "remote: Compressing objects: 100% (104/104), done.\u001b[K\n",
            "remote: Total 162 (delta 98), reused 97 (delta 56), pack-reused 0\u001b[K\n",
            "Receiving objects: 100% (162/162), 234.52 KiB | 4.34 MiB/s, done.\n",
            "Resolving deltas: 100% (98/98), done.\n"
          ]
        }
      ]
    },
    {
      "cell_type": "code",
      "source": [
        "!rm -rf SecureTLForIrisBiometrics"
      ],
      "metadata": {
        "id": "kAOM_yQTaJHv"
      },
      "execution_count": 4,
      "outputs": []
    },
    {
      "cell_type": "code",
      "source": [
        "%cd SecureTLForIrisBiometrics/\n"
      ],
      "metadata": {
        "colab": {
          "base_uri": "https://localhost:8080/"
        },
        "id": "0RoEfr2AaRUR",
        "outputId": "281e2630-dbf2-4294-b39d-2f744c993a45"
      },
      "execution_count": 3,
      "outputs": [
        {
          "output_type": "stream",
          "name": "stdout",
          "text": [
            "/content/SecureTLForIrisBiometrics\n"
          ]
        }
      ]
    },
    {
      "cell_type": "code",
      "source": [
        "!git pull\n"
      ],
      "metadata": {
        "colab": {
          "base_uri": "https://localhost:8080/"
        },
        "id": "s8fTxX2bfW4K",
        "outputId": "1d61efa9-37a3-400f-b5d2-fa545e62f447"
      },
      "execution_count": 10,
      "outputs": [
        {
          "output_type": "stream",
          "name": "stdout",
          "text": [
            "remote: Enumerating objects: 7, done.\u001b[K\n",
            "remote: Counting objects:  14% (1/7)\u001b[K\rremote: Counting objects:  28% (2/7)\u001b[K\rremote: Counting objects:  42% (3/7)\u001b[K\rremote: Counting objects:  57% (4/7)\u001b[K\rremote: Counting objects:  71% (5/7)\u001b[K\rremote: Counting objects:  85% (6/7)\u001b[K\rremote: Counting objects: 100% (7/7)\u001b[K\rremote: Counting objects: 100% (7/7), done.\u001b[K\n",
            "remote: Compressing objects: 100% (1/1)\u001b[K\rremote: Compressing objects: 100% (1/1), done.\u001b[K\n",
            "remote: Total 4 (delta 3), reused 4 (delta 3), pack-reused 0\u001b[K\n",
            "Unpacking objects:  25% (1/4)\rUnpacking objects:  50% (2/4)\rUnpacking objects:  75% (3/4)\rUnpacking objects: 100% (4/4)\rUnpacking objects: 100% (4/4), 386 bytes | 386.00 KiB/s, done.\n",
            "From https://github.com/krish-navulla/SecureTLForIrisBiometrics\n",
            "   fc93c92..3672b61  main       -> origin/main\n",
            "Updating fc93c92..3672b61\n",
            "Fast-forward\n",
            " dataset.py | 4 \u001b[32m++\u001b[m\u001b[31m--\u001b[m\n",
            " models.py  | 4 \u001b[32m+++\u001b[m\u001b[31m-\u001b[m\n",
            " 2 files changed, 5 insertions(+), 3 deletions(-)\n"
          ]
        }
      ]
    },
    {
      "cell_type": "code",
      "source": [
        "!git add .\n"
      ],
      "metadata": {
        "id": "T5ol4Am4ksHy"
      },
      "execution_count": 18,
      "outputs": []
    },
    {
      "cell_type": "code",
      "source": [
        "!git config --global user.email \"navullavamshi2423@gmail.com\"\n",
        "!git config --global user.name \"krish-navulla\""
      ],
      "metadata": {
        "id": "Oe1_CIKqk_er"
      },
      "execution_count": 20,
      "outputs": []
    },
    {
      "cell_type": "code",
      "source": [
        "!git config --global credential.helper manager\n"
      ],
      "metadata": {
        "id": "ns0alys5l7ND"
      },
      "execution_count": 25,
      "outputs": []
    },
    {
      "cell_type": "code",
      "source": [
        "!git commit -m \"Vit_b_16_changes\""
      ],
      "metadata": {
        "colab": {
          "base_uri": "https://localhost:8080/"
        },
        "id": "2Rnk2hN-k4IR",
        "outputId": "388e007d-a3d8-4161-c905-0f8858b822f2"
      },
      "execution_count": 21,
      "outputs": [
        {
          "output_type": "stream",
          "name": "stdout",
          "text": [
            "[main 6a2a042] Vit_b_16_changes\n",
            " 10 files changed, 5 insertions(+), 5 deletions(-)\n",
            " create mode 100644 Securetl_Iris_Attention_model_16b_50.pth\n",
            " create mode 100644 Securetl_Iris_Attention_model_16b_50_trainhist.pk\n",
            " create mode 100644 Securetl_Iris_Attention_model_16b_50_validhist.pk\n",
            " create mode 100644 __pycache__/dataset.cpython-310.pyc\n",
            " create mode 100644 __pycache__/eval.cpython-310.pyc\n",
            " create mode 100644 __pycache__/losses.cpython-310.pyc\n",
            " create mode 100644 __pycache__/models.cpython-310.pyc\n",
            " create mode 100644 __pycache__/trainer.cpython-310.pyc\n"
          ]
        }
      ]
    },
    {
      "cell_type": "code",
      "source": [
        "!git push"
      ],
      "metadata": {
        "colab": {
          "base_uri": "https://localhost:8080/"
        },
        "id": "-z-zstgmlSBj",
        "outputId": "3af663c0-c906-4747-f0ce-eb3fe8250ac7"
      },
      "execution_count": 26,
      "outputs": [
        {
          "output_type": "stream",
          "name": "stdout",
          "text": [
            "git: 'credential-manager' is not a git command. See 'git --help'.\n",
            "fatal: could not read Username for 'https://github.com': No such device or address\n"
          ]
        }
      ]
    },
    {
      "cell_type": "code",
      "source": [
        "!git remote -v\n"
      ],
      "metadata": {
        "colab": {
          "base_uri": "https://localhost:8080/"
        },
        "id": "Us0i_yrGmGAV",
        "outputId": "5631db0f-8df4-4313-f1c7-7f91e53d8df8"
      },
      "execution_count": 27,
      "outputs": [
        {
          "output_type": "stream",
          "name": "stdout",
          "text": [
            "origin\thttps://github.com/krish-navulla/SecureTLForIrisBiometrics.git (fetch)\n",
            "origin\thttps://github.com/krish-navulla/SecureTLForIrisBiometrics.git (push)\n"
          ]
        }
      ]
    },
    {
      "cell_type": "markdown",
      "source": [
        "# Requirements"
      ],
      "metadata": {
        "id": "uVxwiDfK324U"
      }
    },
    {
      "cell_type": "code",
      "source": [
        "!pip install torch\n",
        "import torch"
      ],
      "metadata": {
        "id": "B34s0XgNkc98",
        "colab": {
          "base_uri": "https://localhost:8080/"
        },
        "outputId": "75fa6612-6648-4ff3-8272-3735a2cf423b"
      },
      "execution_count": null,
      "outputs": [
        {
          "output_type": "stream",
          "name": "stdout",
          "text": [
            "Looking in indexes: https://pypi.org/simple, https://us-python.pkg.dev/colab-wheels/public/simple/\n",
            "Requirement already satisfied: torch in /usr/local/lib/python3.10/dist-packages (2.0.0+cu118)\n",
            "Requirement already satisfied: filelock in /usr/local/lib/python3.10/dist-packages (from torch) (3.12.0)\n",
            "Requirement already satisfied: typing-extensions in /usr/local/lib/python3.10/dist-packages (from torch) (4.5.0)\n",
            "Requirement already satisfied: sympy in /usr/local/lib/python3.10/dist-packages (from torch) (1.11.1)\n",
            "Requirement already satisfied: networkx in /usr/local/lib/python3.10/dist-packages (from torch) (3.1)\n",
            "Requirement already satisfied: jinja2 in /usr/local/lib/python3.10/dist-packages (from torch) (3.1.2)\n",
            "Requirement already satisfied: triton==2.0.0 in /usr/local/lib/python3.10/dist-packages (from torch) (2.0.0)\n",
            "Requirement already satisfied: cmake in /usr/local/lib/python3.10/dist-packages (from triton==2.0.0->torch) (3.25.2)\n",
            "Requirement already satisfied: lit in /usr/local/lib/python3.10/dist-packages (from triton==2.0.0->torch) (16.0.3)\n",
            "Requirement already satisfied: MarkupSafe>=2.0 in /usr/local/lib/python3.10/dist-packages (from jinja2->torch) (2.1.2)\n",
            "Requirement already satisfied: mpmath>=0.19 in /usr/local/lib/python3.10/dist-packages (from sympy->torch) (1.3.0)\n"
          ]
        }
      ]
    },
    {
      "cell_type": "code",
      "source": [
        "!pip install torchvision==0.*"
      ],
      "metadata": {
        "id": "GRCN4okGkAE6",
        "colab": {
          "base_uri": "https://localhost:8080/"
        },
        "outputId": "1720f999-e23f-478e-e54f-82537f5c08d5"
      },
      "execution_count": null,
      "outputs": [
        {
          "output_type": "stream",
          "name": "stdout",
          "text": [
            "Looking in indexes: https://pypi.org/simple, https://us-python.pkg.dev/colab-wheels/public/simple/\n",
            "Requirement already satisfied: torchvision==0.* in /usr/local/lib/python3.10/dist-packages (0.15.1+cu118)\n",
            "Requirement already satisfied: torch==2.0.0 in /usr/local/lib/python3.10/dist-packages (from torchvision==0.*) (2.0.0+cu118)\n",
            "Requirement already satisfied: requests in /usr/local/lib/python3.10/dist-packages (from torchvision==0.*) (2.27.1)\n",
            "Requirement already satisfied: pillow!=8.3.*,>=5.3.0 in /usr/local/lib/python3.10/dist-packages (from torchvision==0.*) (8.4.0)\n",
            "Requirement already satisfied: numpy in /usr/local/lib/python3.10/dist-packages (from torchvision==0.*) (1.22.4)\n",
            "Requirement already satisfied: filelock in /usr/local/lib/python3.10/dist-packages (from torch==2.0.0->torchvision==0.*) (3.12.0)\n",
            "Requirement already satisfied: networkx in /usr/local/lib/python3.10/dist-packages (from torch==2.0.0->torchvision==0.*) (3.1)\n",
            "Requirement already satisfied: typing-extensions in /usr/local/lib/python3.10/dist-packages (from torch==2.0.0->torchvision==0.*) (4.5.0)\n",
            "Requirement already satisfied: jinja2 in /usr/local/lib/python3.10/dist-packages (from torch==2.0.0->torchvision==0.*) (3.1.2)\n",
            "Requirement already satisfied: triton==2.0.0 in /usr/local/lib/python3.10/dist-packages (from torch==2.0.0->torchvision==0.*) (2.0.0)\n",
            "Requirement already satisfied: sympy in /usr/local/lib/python3.10/dist-packages (from torch==2.0.0->torchvision==0.*) (1.11.1)\n",
            "Requirement already satisfied: lit in /usr/local/lib/python3.10/dist-packages (from triton==2.0.0->torch==2.0.0->torchvision==0.*) (16.0.2)\n",
            "Requirement already satisfied: cmake in /usr/local/lib/python3.10/dist-packages (from triton==2.0.0->torch==2.0.0->torchvision==0.*) (3.25.2)\n",
            "Requirement already satisfied: idna<4,>=2.5 in /usr/local/lib/python3.10/dist-packages (from requests->torchvision==0.*) (3.4)\n",
            "Requirement already satisfied: charset-normalizer~=2.0.0 in /usr/local/lib/python3.10/dist-packages (from requests->torchvision==0.*) (2.0.12)\n",
            "Requirement already satisfied: certifi>=2017.4.17 in /usr/local/lib/python3.10/dist-packages (from requests->torchvision==0.*) (2022.12.7)\n",
            "Requirement already satisfied: urllib3<1.27,>=1.21.1 in /usr/local/lib/python3.10/dist-packages (from requests->torchvision==0.*) (1.26.15)\n",
            "Requirement already satisfied: MarkupSafe>=2.0 in /usr/local/lib/python3.10/dist-packages (from jinja2->torch==2.0.0->torchvision==0.*) (2.1.2)\n",
            "Requirement already satisfied: mpmath>=0.19 in /usr/local/lib/python3.10/dist-packages (from sympy->torch==2.0.0->torchvision==0.*) (1.3.0)\n"
          ]
        }
      ]
    },
    {
      "cell_type": "code",
      "source": [
        "!pip install certifi==2020.12.5 chardet==3.0.4 cycler==0.10.0 entropy-estimators==0.0.1 facenet-pytorch==2.3.0 idna==2.10 joblib==0.17.0 kiwisolver==1.3.1 matplotlib==2.2.2 numpy==1.19.4 Pillow==8.0.1 pyparsing==2.4.7 python-dateutil==2.8.1 pytz==2020.4 requests==2.25.0 scikit-learn==0.22.2.post1 scipy==1.5.4 six==1.15.0 torch==1.4.0 torchvision==0.5.0 urllib3==1.26.2\n"
      ],
      "metadata": {
        "id": "WesbuaADisP-",
        "colab": {
          "base_uri": "https://localhost:8080/"
        },
        "outputId": "ba3ec4cd-893a-4e59-98e0-fcd985c6b8f2"
      },
      "execution_count": null,
      "outputs": [
        {
          "output_type": "stream",
          "name": "stdout",
          "text": [
            "Looking in indexes: https://pypi.org/simple, https://us-python.pkg.dev/colab-wheels/public/simple/\n",
            "Collecting certifi==2020.12.5\n",
            "  Downloading certifi-2020.12.5-py2.py3-none-any.whl (147 kB)\n",
            "\u001b[2K     \u001b[90m━━━━━━━━━━━━━━━━━━━━━━━━━━━━━━━━━━━━━━━\u001b[0m \u001b[32m147.5/147.5 kB\u001b[0m \u001b[31m4.2 MB/s\u001b[0m eta \u001b[36m0:00:00\u001b[0m\n",
            "\u001b[?25hCollecting chardet==3.0.4\n",
            "  Downloading chardet-3.0.4-py2.py3-none-any.whl (133 kB)\n",
            "\u001b[2K     \u001b[90m━━━━━━━━━━━━━━━━━━━━━━━━━━━━━━━━━━━━━━\u001b[0m \u001b[32m133.4/133.4 kB\u001b[0m \u001b[31m12.7 MB/s\u001b[0m eta \u001b[36m0:00:00\u001b[0m\n",
            "\u001b[?25hCollecting cycler==0.10.0\n",
            "  Downloading cycler-0.10.0-py2.py3-none-any.whl (6.5 kB)\n",
            "Collecting entropy-estimators==0.0.1\n",
            "  Downloading entropy_estimators-0.0.1.tar.gz (7.6 kB)\n",
            "  Preparing metadata (setup.py) ... \u001b[?25l\u001b[?25hdone\n",
            "Collecting facenet-pytorch==2.3.0\n",
            "  Downloading facenet_pytorch-2.3.0-py3-none-any.whl (1.9 MB)\n",
            "\u001b[2K     \u001b[90m━━━━━━━━━━━━━━━━━━━━━━━━━━━━━━━━━━━━━━━━\u001b[0m \u001b[32m1.9/1.9 MB\u001b[0m \u001b[31m35.8 MB/s\u001b[0m eta \u001b[36m0:00:00\u001b[0m\n",
            "\u001b[?25hCollecting idna==2.10\n",
            "  Downloading idna-2.10-py2.py3-none-any.whl (58 kB)\n",
            "\u001b[2K     \u001b[90m━━━━━━━━━━━━━━━━━━━━━━━━━━━━━━━━━━━━━━━━\u001b[0m \u001b[32m58.8/58.8 kB\u001b[0m \u001b[31m2.8 MB/s\u001b[0m eta \u001b[36m0:00:00\u001b[0m\n",
            "\u001b[?25hCollecting joblib==0.17.0\n",
            "  Downloading joblib-0.17.0-py3-none-any.whl (301 kB)\n",
            "\u001b[2K     \u001b[90m━━━━━━━━━━━━━━━━━━━━━━━━━━━━━━━━━━━━━━\u001b[0m \u001b[32m301.5/301.5 kB\u001b[0m \u001b[31m24.5 MB/s\u001b[0m eta \u001b[36m0:00:00\u001b[0m\n",
            "\u001b[?25hCollecting kiwisolver==1.3.1\n",
            "  Downloading kiwisolver-1.3.1.tar.gz (53 kB)\n",
            "\u001b[2K     \u001b[90m━━━━━━━━━━━━━━━━━━━━━━━━━━━━━━━━━━━━━━━━\u001b[0m \u001b[32m53.1/53.1 kB\u001b[0m \u001b[31m5.8 MB/s\u001b[0m eta \u001b[36m0:00:00\u001b[0m\n",
            "\u001b[?25h  Preparing metadata (setup.py) ... \u001b[?25l\u001b[?25hdone\n",
            "Collecting matplotlib==2.2.2\n",
            "  Downloading matplotlib-2.2.2.tar.gz (37.3 MB)\n",
            "\u001b[2K     \u001b[90m━━━━━━━━━━━━━━━━━━━━━━━━━━━━━━━━━━━━━━━━\u001b[0m \u001b[32m37.3/37.3 MB\u001b[0m \u001b[31m11.3 MB/s\u001b[0m eta \u001b[36m0:00:00\u001b[0m\n",
            "\u001b[?25h  Preparing metadata (setup.py) ... \u001b[?25l\u001b[?25hdone\n",
            "Collecting numpy==1.19.4\n",
            "  Downloading numpy-1.19.4.zip (7.3 MB)\n",
            "\u001b[2K     \u001b[90m━━━━━━━━━━━━━━━━━━━━━━━━━━━━━━━━━━━━━━━━\u001b[0m \u001b[32m7.3/7.3 MB\u001b[0m \u001b[31m90.7 MB/s\u001b[0m eta \u001b[36m0:00:00\u001b[0m\n",
            "\u001b[?25h  Installing build dependencies ... \u001b[?25l\u001b[?25hdone\n",
            "  Getting requirements to build wheel ... \u001b[?25l\u001b[?25hdone\n",
            "  Preparing metadata (pyproject.toml) ... \u001b[?25l\u001b[?25hdone\n",
            "Collecting Pillow==8.0.1\n",
            "  Downloading Pillow-8.0.1.tar.gz (44.6 MB)\n",
            "\u001b[2K     \u001b[90m━━━━━━━━━━━━━━━━━━━━━━━━━━━━━━━━━━━━━━━━\u001b[0m \u001b[32m44.6/44.6 MB\u001b[0m \u001b[31m15.4 MB/s\u001b[0m eta \u001b[36m0:00:00\u001b[0m\n",
            "\u001b[?25h  Preparing metadata (setup.py) ... \u001b[?25l\u001b[?25hdone\n",
            "Collecting pyparsing==2.4.7\n",
            "  Downloading pyparsing-2.4.7-py2.py3-none-any.whl (67 kB)\n",
            "\u001b[2K     \u001b[90m━━━━━━━━━━━━━━━━━━━━━━━━━━━━━━━━━━━━━━━━\u001b[0m \u001b[32m67.8/67.8 kB\u001b[0m \u001b[31m6.6 MB/s\u001b[0m eta \u001b[36m0:00:00\u001b[0m\n",
            "\u001b[?25hCollecting python-dateutil==2.8.1\n",
            "  Downloading python_dateutil-2.8.1-py2.py3-none-any.whl (227 kB)\n",
            "\u001b[2K     \u001b[90m━━━━━━━━━━━━━━━━━━━━━━━━━━━━━━━━━━━━━━\u001b[0m \u001b[32m227.2/227.2 kB\u001b[0m \u001b[31m20.3 MB/s\u001b[0m eta \u001b[36m0:00:00\u001b[0m\n",
            "\u001b[?25hCollecting pytz==2020.4\n",
            "  Downloading pytz-2020.4-py2.py3-none-any.whl (509 kB)\n",
            "\u001b[2K     \u001b[90m━━━━━━━━━━━━━━━━━━━━━━━━━━━━━━━━━━━━━━\u001b[0m \u001b[32m509.0/509.0 kB\u001b[0m \u001b[31m37.0 MB/s\u001b[0m eta \u001b[36m0:00:00\u001b[0m\n",
            "\u001b[?25hCollecting requests==2.25.0\n",
            "  Downloading requests-2.25.0-py2.py3-none-any.whl (61 kB)\n",
            "\u001b[2K     \u001b[90m━━━━━━━━━━━━━━━━━━━━━━━━━━━━━━━━━━━━━━━━\u001b[0m \u001b[32m61.1/61.1 kB\u001b[0m \u001b[31m6.0 MB/s\u001b[0m eta \u001b[36m0:00:00\u001b[0m\n",
            "\u001b[?25hCollecting scikit-learn==0.22.2.post1\n",
            "  Downloading scikit-learn-0.22.2.post1.tar.gz (6.9 MB)\n",
            "\u001b[2K     \u001b[90m━━━━━━━━━━━━━━━━━━━━━━━━━━━━━━━━━━━━━━━━\u001b[0m \u001b[32m6.9/6.9 MB\u001b[0m \u001b[31m65.9 MB/s\u001b[0m eta \u001b[36m0:00:00\u001b[0m\n",
            "\u001b[?25h  Preparing metadata (setup.py) ... \u001b[?25l\u001b[?25hdone\n",
            "Collecting scipy==1.5.4\n",
            "  Downloading scipy-1.5.4.tar.gz (25.2 MB)\n",
            "\u001b[2K     \u001b[90m━━━━━━━━━━━━━━━━━━━━━━━━━━━━━━━━━━━━━━━━\u001b[0m \u001b[32m25.2/25.2 MB\u001b[0m \u001b[31m58.1 MB/s\u001b[0m eta \u001b[36m0:00:00\u001b[0m\n",
            "\u001b[?25h  \u001b[1;31merror\u001b[0m: \u001b[1msubprocess-exited-with-error\u001b[0m\n",
            "  \n",
            "  \u001b[31m×\u001b[0m \u001b[32mpip subprocess to install build dependencies\u001b[0m did not run successfully.\n",
            "  \u001b[31m│\u001b[0m exit code: \u001b[1;36m1\u001b[0m\n",
            "  \u001b[31m╰─>\u001b[0m See above for output.\n",
            "  \n",
            "  \u001b[1;35mnote\u001b[0m: This error originates from a subprocess, and is likely not a problem with pip.\n",
            "  Installing build dependencies ... \u001b[?25l\u001b[?25herror\n",
            "\u001b[1;31merror\u001b[0m: \u001b[1msubprocess-exited-with-error\u001b[0m\n",
            "\n",
            "\u001b[31m×\u001b[0m \u001b[32mpip subprocess to install build dependencies\u001b[0m did not run successfully.\n",
            "\u001b[31m│\u001b[0m exit code: \u001b[1;36m1\u001b[0m\n",
            "\u001b[31m╰─>\u001b[0m See above for output.\n",
            "\n",
            "\u001b[1;35mnote\u001b[0m: This error originates from a subprocess, and is likely not a problem with pip.\n"
          ]
        }
      ]
    },
    {
      "cell_type": "code",
      "source": [
        "!pip install torchvision==0.5.0\n"
      ],
      "metadata": {
        "id": "AbVKFfSajYUp",
        "colab": {
          "base_uri": "https://localhost:8080/"
        },
        "outputId": "d8b2b663-b2de-4503-fbdb-893c7a927585"
      },
      "execution_count": null,
      "outputs": [
        {
          "output_type": "stream",
          "name": "stdout",
          "text": [
            "Looking in indexes: https://pypi.org/simple, https://us-python.pkg.dev/colab-wheels/public/simple/\n",
            "\u001b[31mERROR: Could not find a version that satisfies the requirement torchvision==0.5.0 (from versions: 0.1.6, 0.1.7, 0.1.8, 0.1.9, 0.2.0, 0.2.1, 0.2.2, 0.2.2.post2, 0.2.2.post3, 0.12.0, 0.13.0, 0.13.1, 0.14.0, 0.14.1, 0.15.0, 0.15.1)\u001b[0m\u001b[31m\n",
            "\u001b[0m\u001b[31mERROR: No matching distribution found for torchvision==0.5.0\u001b[0m\u001b[31m\n",
            "\u001b[0m"
          ]
        }
      ]
    },
    {
      "cell_type": "code",
      "source": [
        "!pip install facenet_pytorch"
      ],
      "metadata": {
        "colab": {
          "base_uri": "https://localhost:8080/"
        },
        "id": "kWljkafWdpy_",
        "outputId": "24470619-ce86-4825-9d98-36288637b7c3"
      },
      "execution_count": null,
      "outputs": [
        {
          "output_type": "stream",
          "name": "stdout",
          "text": [
            "Looking in indexes: https://pypi.org/simple, https://us-python.pkg.dev/colab-wheels/public/simple/\n",
            "Collecting facenet_pytorch\n",
            "  Downloading facenet_pytorch-2.5.3-py3-none-any.whl (1.9 MB)\n",
            "\u001b[2K     \u001b[90m━━━━━━━━━━━━━━━━━━━━━━━━━━━━━━━━━━━━━━━━\u001b[0m \u001b[32m1.9/1.9 MB\u001b[0m \u001b[31m22.3 MB/s\u001b[0m eta \u001b[36m0:00:00\u001b[0m\n",
            "\u001b[?25hRequirement already satisfied: numpy in /usr/local/lib/python3.10/dist-packages (from facenet_pytorch) (1.22.4)\n",
            "Requirement already satisfied: requests in /usr/local/lib/python3.10/dist-packages (from facenet_pytorch) (2.27.1)\n",
            "Requirement already satisfied: torchvision in /usr/local/lib/python3.10/dist-packages (from facenet_pytorch) (0.15.1+cu118)\n",
            "Requirement already satisfied: pillow in /usr/local/lib/python3.10/dist-packages (from facenet_pytorch) (8.4.0)\n",
            "Requirement already satisfied: urllib3<1.27,>=1.21.1 in /usr/local/lib/python3.10/dist-packages (from requests->facenet_pytorch) (1.26.15)\n",
            "Requirement already satisfied: certifi>=2017.4.17 in /usr/local/lib/python3.10/dist-packages (from requests->facenet_pytorch) (2022.12.7)\n",
            "Requirement already satisfied: charset-normalizer~=2.0.0 in /usr/local/lib/python3.10/dist-packages (from requests->facenet_pytorch) (2.0.12)\n",
            "Requirement already satisfied: idna<4,>=2.5 in /usr/local/lib/python3.10/dist-packages (from requests->facenet_pytorch) (3.4)\n",
            "Requirement already satisfied: torch==2.0.0 in /usr/local/lib/python3.10/dist-packages (from torchvision->facenet_pytorch) (2.0.0+cu118)\n",
            "Requirement already satisfied: filelock in /usr/local/lib/python3.10/dist-packages (from torch==2.0.0->torchvision->facenet_pytorch) (3.12.0)\n",
            "Requirement already satisfied: typing-extensions in /usr/local/lib/python3.10/dist-packages (from torch==2.0.0->torchvision->facenet_pytorch) (4.5.0)\n",
            "Requirement already satisfied: sympy in /usr/local/lib/python3.10/dist-packages (from torch==2.0.0->torchvision->facenet_pytorch) (1.11.1)\n",
            "Requirement already satisfied: networkx in /usr/local/lib/python3.10/dist-packages (from torch==2.0.0->torchvision->facenet_pytorch) (3.1)\n",
            "Requirement already satisfied: jinja2 in /usr/local/lib/python3.10/dist-packages (from torch==2.0.0->torchvision->facenet_pytorch) (3.1.2)\n",
            "Requirement already satisfied: triton==2.0.0 in /usr/local/lib/python3.10/dist-packages (from torch==2.0.0->torchvision->facenet_pytorch) (2.0.0)\n",
            "Requirement already satisfied: cmake in /usr/local/lib/python3.10/dist-packages (from triton==2.0.0->torch==2.0.0->torchvision->facenet_pytorch) (3.25.2)\n",
            "Requirement already satisfied: lit in /usr/local/lib/python3.10/dist-packages (from triton==2.0.0->torch==2.0.0->torchvision->facenet_pytorch) (16.0.3)\n",
            "Requirement already satisfied: MarkupSafe>=2.0 in /usr/local/lib/python3.10/dist-packages (from jinja2->torch==2.0.0->torchvision->facenet_pytorch) (2.1.2)\n",
            "Requirement already satisfied: mpmath>=0.19 in /usr/local/lib/python3.10/dist-packages (from sympy->torch==2.0.0->torchvision->facenet_pytorch) (1.3.0)\n",
            "Installing collected packages: facenet_pytorch\n",
            "Successfully installed facenet_pytorch-2.5.3\n"
          ]
        }
      ]
    },
    {
      "cell_type": "code",
      "source": [
        "import facenet_pytorch\n",
        "from facenet_pytorch.models.inception_resnet_v1 import InceptionResnetV1\n"
      ],
      "metadata": {
        "id": "KmneiBPxpuze"
      },
      "execution_count": null,
      "outputs": []
    },
    {
      "cell_type": "code",
      "source": [
        "!pip show facenet_pytorch"
      ],
      "metadata": {
        "colab": {
          "base_uri": "https://localhost:8080/"
        },
        "id": "_x1H4k_qewci",
        "outputId": "46282c0d-f1da-465b-91fa-f8649e9b2264"
      },
      "execution_count": null,
      "outputs": [
        {
          "output_type": "stream",
          "name": "stdout",
          "text": [
            "Name: facenet-pytorch\n",
            "Version: 2.5.3\n",
            "Summary: Pretrained Pytorch face detection and recognition models\n",
            "Home-page: https://github.com/timesler/facenet-pytorch\n",
            "Author: Tim Esler\n",
            "Author-email: tim.esler@gmail.com\n",
            "License: \n",
            "Location: /usr/local/lib/python3.10/dist-packages\n",
            "Requires: numpy, pillow, requests, torchvision\n",
            "Required-by: \n"
          ]
        }
      ]
    },
    {
      "cell_type": "code",
      "source": [
        "import os\n"
      ],
      "metadata": {
        "id": "dL4ZOdfle8PA"
      },
      "execution_count": null,
      "outputs": []
    },
    {
      "cell_type": "code",
      "source": [
        "!pip install entropy-estimators==0.0.1\n",
        "!pip install facenet-pytorch"
      ],
      "metadata": {
        "colab": {
          "base_uri": "https://localhost:8080/"
        },
        "id": "Aq6P7QTzsUTe",
        "outputId": "74f9a4f2-233b-42a0-c744-37d29c33863c"
      },
      "execution_count": 5,
      "outputs": [
        {
          "output_type": "stream",
          "name": "stdout",
          "text": [
            "Looking in indexes: https://pypi.org/simple, https://us-python.pkg.dev/colab-wheels/public/simple/\n",
            "Collecting entropy-estimators==0.0.1\n",
            "  Downloading entropy_estimators-0.0.1.tar.gz (7.6 kB)\n",
            "  Preparing metadata (setup.py) ... \u001b[?25l\u001b[?25hdone\n",
            "Requirement already satisfied: scipy in /usr/local/lib/python3.10/dist-packages (from entropy-estimators==0.0.1) (1.10.1)\n",
            "Requirement already satisfied: numpy in /usr/local/lib/python3.10/dist-packages (from entropy-estimators==0.0.1) (1.22.4)\n",
            "Building wheels for collected packages: entropy-estimators\n",
            "  Building wheel for entropy-estimators (setup.py) ... \u001b[?25l\u001b[?25hdone\n",
            "  Created wheel for entropy-estimators: filename=entropy_estimators-0.0.1-py3-none-any.whl size=8299 sha256=51579784ccc4b29f58095cd361b70c2273be84d33add20bc1ad2bee8e7df7653\n",
            "  Stored in directory: /root/.cache/pip/wheels/0c/f6/6c/7730a2fad2f91b0b02dafb82e42601d820482c66fb9d9046c7\n",
            "Successfully built entropy-estimators\n",
            "Installing collected packages: entropy-estimators\n",
            "Successfully installed entropy-estimators-0.0.1\n",
            "Looking in indexes: https://pypi.org/simple, https://us-python.pkg.dev/colab-wheels/public/simple/\n",
            "Collecting facenet-pytorch\n",
            "  Downloading facenet_pytorch-2.5.3-py3-none-any.whl (1.9 MB)\n",
            "\u001b[2K     \u001b[90m━━━━━━━━━━━━━━━━━━━━━━━━━━━━━━━━━━━━━━━━\u001b[0m \u001b[32m1.9/1.9 MB\u001b[0m \u001b[31m18.3 MB/s\u001b[0m eta \u001b[36m0:00:00\u001b[0m\n",
            "\u001b[?25hRequirement already satisfied: numpy in /usr/local/lib/python3.10/dist-packages (from facenet-pytorch) (1.22.4)\n",
            "Requirement already satisfied: requests in /usr/local/lib/python3.10/dist-packages (from facenet-pytorch) (2.27.1)\n",
            "Requirement already satisfied: torchvision in /usr/local/lib/python3.10/dist-packages (from facenet-pytorch) (0.15.2+cu118)\n",
            "Requirement already satisfied: pillow in /usr/local/lib/python3.10/dist-packages (from facenet-pytorch) (8.4.0)\n",
            "Requirement already satisfied: urllib3<1.27,>=1.21.1 in /usr/local/lib/python3.10/dist-packages (from requests->facenet-pytorch) (1.26.15)\n",
            "Requirement already satisfied: certifi>=2017.4.17 in /usr/local/lib/python3.10/dist-packages (from requests->facenet-pytorch) (2022.12.7)\n",
            "Requirement already satisfied: charset-normalizer~=2.0.0 in /usr/local/lib/python3.10/dist-packages (from requests->facenet-pytorch) (2.0.12)\n",
            "Requirement already satisfied: idna<4,>=2.5 in /usr/local/lib/python3.10/dist-packages (from requests->facenet-pytorch) (3.4)\n",
            "Requirement already satisfied: torch==2.0.1 in /usr/local/lib/python3.10/dist-packages (from torchvision->facenet-pytorch) (2.0.1+cu118)\n",
            "Requirement already satisfied: filelock in /usr/local/lib/python3.10/dist-packages (from torch==2.0.1->torchvision->facenet-pytorch) (3.12.0)\n",
            "Requirement already satisfied: typing-extensions in /usr/local/lib/python3.10/dist-packages (from torch==2.0.1->torchvision->facenet-pytorch) (4.5.0)\n",
            "Requirement already satisfied: sympy in /usr/local/lib/python3.10/dist-packages (from torch==2.0.1->torchvision->facenet-pytorch) (1.11.1)\n",
            "Requirement already satisfied: networkx in /usr/local/lib/python3.10/dist-packages (from torch==2.0.1->torchvision->facenet-pytorch) (3.1)\n",
            "Requirement already satisfied: jinja2 in /usr/local/lib/python3.10/dist-packages (from torch==2.0.1->torchvision->facenet-pytorch) (3.1.2)\n",
            "Requirement already satisfied: triton==2.0.0 in /usr/local/lib/python3.10/dist-packages (from torch==2.0.1->torchvision->facenet-pytorch) (2.0.0)\n",
            "Requirement already satisfied: cmake in /usr/local/lib/python3.10/dist-packages (from triton==2.0.0->torch==2.0.1->torchvision->facenet-pytorch) (3.25.2)\n",
            "Requirement already satisfied: lit in /usr/local/lib/python3.10/dist-packages (from triton==2.0.0->torch==2.0.1->torchvision->facenet-pytorch) (16.0.5)\n",
            "Requirement already satisfied: MarkupSafe>=2.0 in /usr/local/lib/python3.10/dist-packages (from jinja2->torch==2.0.1->torchvision->facenet-pytorch) (2.1.2)\n",
            "Requirement already satisfied: mpmath>=0.19 in /usr/local/lib/python3.10/dist-packages (from sympy->torch==2.0.1->torchvision->facenet-pytorch) (1.3.0)\n",
            "Installing collected packages: facenet-pytorch\n",
            "Successfully installed facenet-pytorch-2.5.3\n"
          ]
        }
      ]
    },
    {
      "cell_type": "code",
      "source": [],
      "metadata": {
        "id": "c9k9IVKERE9S"
      },
      "execution_count": null,
      "outputs": []
    },
    {
      "cell_type": "markdown",
      "source": [
        "# Vision Transformer - Vit_b_32"
      ],
      "metadata": {
        "id": "DMdz4AIqi4FZ"
      }
    },
    {
      "cell_type": "code",
      "source": [
        "%cd /content/SecureTL/\n"
      ],
      "metadata": {
        "id": "ajuzd3J0oPT3",
        "colab": {
          "base_uri": "https://localhost:8080/"
        },
        "outputId": "afb76746-b263-4b8f-96bf-34ad582a6ca4"
      },
      "execution_count": 5,
      "outputs": [
        {
          "output_type": "stream",
          "name": "stdout",
          "text": [
            "/content/SecureTL\n"
          ]
        }
      ]
    },
    {
      "cell_type": "code",
      "source": [
        "import numpy as np\n",
        "import cv2\n",
        "import torchvision\n",
        "import torch"
      ],
      "metadata": {
        "id": "F-uKSTp197sC"
      },
      "execution_count": null,
      "outputs": []
    },
    {
      "cell_type": "code",
      "source": [],
      "metadata": {
        "colab": {
          "base_uri": "https://localhost:8080/"
        },
        "id": "Bpu2yloOSqJH",
        "outputId": "51e08bf5-9006-4cd5-afd2-0818359f58aa"
      },
      "execution_count": 1,
      "outputs": [
        {
          "output_type": "stream",
          "name": "stdout",
          "text": [
            "Mounted at /content/drive\n"
          ]
        }
      ]
    },
    {
      "cell_type": "markdown",
      "source": [
        "Preparing Iris images for Training"
      ],
      "metadata": {
        "id": "VjcPKjnufnQ6"
      }
    },
    {
      "cell_type": "code",
      "source": [
        "!python face_prepare_ytfdb.py"
      ],
      "metadata": {
        "colab": {
          "base_uri": "https://localhost:8080/"
        },
        "id": "p4o_WG81j09w",
        "outputId": "94ba0dc6-5859-46f4-b685-de1dbe2f25e9"
      },
      "execution_count": 32,
      "outputs": [
        {
          "output_type": "stream",
          "name": "stdout",
          "text": [
            "Completed train triplets for identity no. 1\n",
            "Completed train triplets for identity no. 2\n",
            "Completed train triplets for identity no. 3\n",
            "Completed train triplets for identity no. 4\n",
            "Completed train triplets for identity no. 5\n",
            "Completed train triplets for identity no. 6\n",
            "Completed train triplets for identity no. 7\n",
            "Completed train triplets for identity no. 8\n",
            "Completed train triplets for identity no. 9\n",
            "Completed train triplets for identity no. 10\n",
            "Completed train triplets for identity no. 11\n",
            "Completed train triplets for identity no. 12\n",
            "Completed train triplets for identity no. 13\n",
            "Completed train triplets for identity no. 14\n",
            "Completed train triplets for identity no. 15\n",
            "Completed train triplets for identity no. 16\n",
            "Completed train triplets for identity no. 17\n",
            "Completed train triplets for identity no. 18\n",
            "Completed train triplets for identity no. 19\n",
            "Completed train triplets for identity no. 20\n",
            "Completed train triplets for identity no. 21\n",
            "Completed train triplets for identity no. 22\n",
            "Completed train triplets for identity no. 23\n",
            "Completed train triplets for identity no. 24\n",
            "Completed train triplets for identity no. 25\n",
            "Completed train triplets for identity no. 26\n",
            "Completed train triplets for identity no. 27\n",
            "Completed train triplets for identity no. 28\n",
            "Completed train triplets for identity no. 29\n",
            "Completed train triplets for identity no. 30\n",
            "Completed train triplets for identity no. 31\n",
            "Completed train triplets for identity no. 32\n",
            "Completed train triplets for identity no. 33\n",
            "Completed train triplets for identity no. 34\n",
            "Completed train triplets for identity no. 35\n",
            "Completed train triplets for identity no. 36\n",
            "Completed train triplets for identity no. 37\n",
            "Completed train triplets for identity no. 38\n",
            "Completed train triplets for identity no. 39\n",
            "Completed train triplets for identity no. 40\n",
            "Completed train triplets for identity no. 41\n",
            "Completed train triplets for identity no. 42\n",
            "Completed train triplets for identity no. 43\n",
            "Completed train triplets for identity no. 44\n",
            "Completed train triplets for identity no. 45\n",
            "Completed train triplets for identity no. 46\n",
            "Completed train triplets for identity no. 47\n",
            "Completed test triplets for identity no. 1\n",
            "Completed test triplets for identity no. 2\n",
            "Completed test triplets for identity no. 3\n",
            "Completed test triplets for identity no. 4\n",
            "Completed test triplets for identity no. 5\n",
            "Completed test triplets for identity no. 6\n"
          ]
        }
      ]
    },
    {
      "cell_type": "markdown",
      "source": [
        "Iris Attention Model Training"
      ],
      "metadata": {
        "id": "t_ylXCbRfVkb"
      }
    },
    {
      "cell_type": "code",
      "source": [
        "!python face_train_securetl_model.py"
      ],
      "metadata": {
        "colab": {
          "base_uri": "https://localhost:8080/"
        },
        "id": "gZaFtJ5mi-ND",
        "outputId": "e735e6c8-7464-4036-c8d0-5dbbbc5fa1ca"
      },
      "execution_count": 34,
      "outputs": [
        {
          "output_type": "stream",
          "name": "stdout",
          "text": [
            "Training model: Securetl_Iris_Attention_model_50\n",
            "Epoch 1\n",
            "........mini-batch no. 12 loss: 1.1390\n",
            "....train loss: 1.0146 :: EER 0.2606 :: Canc_EER 0.4989 :: D_sys 0.5015\n",
            "....valid loss: 1.0256 :: EER 0.3298 :: Canc_EER 0.5000 :: D_sys 0.3893\n",
            "....Saving...\n",
            "Epoch 2\n",
            "........mini-batch no. 12 loss: 1.1085\n",
            "....train loss: 1.0131 :: EER 0.2544 :: Canc_EER 0.4994 :: D_sys 0.5331\n",
            "....valid loss: 1.0230 :: EER 0.3245 :: Canc_EER 0.5071 :: D_sys 0.4155\n",
            "....Saving...\n",
            "Epoch 3\n",
            "........mini-batch no. 12 loss: 1.0591\n",
            "....train loss: 1.0120 :: EER 0.2356 :: Canc_EER 0.4973 :: D_sys 0.5586\n",
            "....valid loss: 1.0223 :: EER 0.2979 :: Canc_EER 0.5053 :: D_sys 0.4468\n",
            "....Saving...\n",
            "Epoch 4\n",
            "........mini-batch no. 12 loss: 1.0844\n",
            "....train loss: 1.0099 :: EER 0.2473 :: Canc_EER 0.4947 :: D_sys 0.5840\n",
            "....valid loss: 1.0223 :: EER 0.2979 :: Canc_EER 0.4894 :: D_sys 0.4452\n",
            "Epoch 5\n",
            "........mini-batch no. 12 loss: 1.0830\n",
            "....train loss: 1.0087 :: EER 0.2327 :: Canc_EER 0.4936 :: D_sys 0.6019\n",
            "....valid loss: 1.0216 :: EER 0.3085 :: Canc_EER 0.5000 :: D_sys 0.4421\n",
            "Epoch 6\n",
            "........mini-batch no. 12 loss: 1.0951\n",
            "....train loss: 1.0081 :: EER 0.2223 :: Canc_EER 0.4973 :: D_sys 0.6232\n",
            "....valid loss: 1.0195 :: EER 0.3085 :: Canc_EER 0.5043 :: D_sys 0.4593\n",
            "Epoch 7\n",
            "........mini-batch no. 12 loss: 1.0940\n",
            "....train loss: 1.0065 :: EER 0.2074 :: Canc_EER 0.4916 :: D_sys 0.6571\n",
            "....valid loss: 1.0163 :: EER 0.2943 :: Canc_EER 0.4894 :: D_sys 0.4895\n",
            "....Saving...\n",
            "Epoch 8\n",
            "........mini-batch no. 12 loss: 1.1227\n",
            "....train loss: 1.0049 :: EER 0.1862 :: Canc_EER 0.4907 :: D_sys 0.6994\n",
            "....valid loss: 1.0129 :: EER 0.2447 :: Canc_EER 0.4947 :: D_sys 0.5291\n",
            "....Saving...\n",
            "Epoch 9\n",
            "........mini-batch no. 12 loss: 1.0258\n",
            "....train loss: 1.0044 :: EER 0.1862 :: Canc_EER 0.4910 :: D_sys 0.7119\n",
            "....valid loss: 1.0118 :: EER 0.2340 :: Canc_EER 0.5000 :: D_sys 0.5557\n",
            "....Saving...\n",
            "Epoch 10\n",
            "........mini-batch no. 12 loss: 1.0749\n",
            "....train loss: 1.0040 :: EER 0.1769 :: Canc_EER 0.4894 :: D_sys 0.7210\n",
            "....valid loss: 1.0101 :: EER 0.2606 :: Canc_EER 0.5000 :: D_sys 0.5911\n",
            "Epoch 11\n",
            "........mini-batch no. 12 loss: 1.0950\n",
            "....train loss: 1.0040 :: EER 0.1715 :: Canc_EER 0.4979 :: D_sys 0.7190\n",
            "....valid loss: 1.0099 :: EER 0.2660 :: Canc_EER 0.5000 :: D_sys 0.6042\n",
            "Epoch 12\n",
            "........mini-batch no. 12 loss: 1.0429\n",
            "....train loss: 1.0040 :: EER 0.1622 :: Canc_EER 0.4943 :: D_sys 0.7212\n",
            "....valid loss: 1.0093 :: EER 0.2447 :: Canc_EER 0.4894 :: D_sys 0.6120\n",
            "Epoch 13\n",
            "........mini-batch no. 12 loss: 1.0380\n",
            "....train loss: 1.0040 :: EER 0.1702 :: Canc_EER 0.4914 :: D_sys 0.7102\n",
            "....valid loss: 1.0090 :: EER 0.2447 :: Canc_EER 0.5000 :: D_sys 0.6077\n",
            "Epoch 14\n",
            "........mini-batch no. 12 loss: 1.0334\n",
            "....train loss: 1.0034 :: EER 0.1729 :: Canc_EER 0.4931 :: D_sys 0.7095\n",
            "....valid loss: 1.0098 :: EER 0.2340 :: Canc_EER 0.5000 :: D_sys 0.6324\n",
            "Epoch 15\n",
            "........mini-batch no. 12 loss: 1.0527\n",
            "....train loss: 1.0033 :: EER 0.1715 :: Canc_EER 0.4873 :: D_sys 0.7017\n",
            "....valid loss: 1.0095 :: EER 0.2234 :: Canc_EER 0.4894 :: D_sys 0.6458\n",
            "....Saving...\n",
            "Epoch 16\n",
            "........mini-batch no. 12 loss: 1.0954\n",
            "....train loss: 1.0030 :: EER 0.1711 :: Canc_EER 0.4947 :: D_sys 0.7108\n",
            "....valid loss: 1.0089 :: EER 0.2234 :: Canc_EER 0.5000 :: D_sys 0.6677\n",
            "Epoch 17\n",
            "........mini-batch no. 12 loss: 1.0608\n",
            "....train loss: 1.0025 :: EER 0.1689 :: Canc_EER 0.4937 :: D_sys 0.7141\n",
            "....valid loss: 1.0083 :: EER 0.2340 :: Canc_EER 0.4947 :: D_sys 0.6654\n",
            "Epoch 18\n",
            "........mini-batch no. 12 loss: 1.0505\n",
            "....train loss: 1.0018 :: EER 0.1755 :: Canc_EER 0.4960 :: D_sys 0.7156\n",
            "....valid loss: 1.0088 :: EER 0.2447 :: Canc_EER 0.4894 :: D_sys 0.6467\n",
            "Epoch 19\n",
            "........mini-batch no. 12 loss: 1.0941\n",
            "....train loss: 1.0012 :: EER 0.1532 :: Canc_EER 0.4863 :: D_sys 0.7299\n",
            "....valid loss: 1.0082 :: EER 0.2234 :: Canc_EER 0.5000 :: D_sys 0.6450\n",
            "Epoch 20\n",
            "........mini-batch no. 12 loss: 1.0801\n",
            "....train loss: 1.0010 :: EER 0.1489 :: Canc_EER 0.4853 :: D_sys 0.7431\n",
            "....valid loss: 1.0079 :: EER 0.2234 :: Canc_EER 0.5000 :: D_sys 0.6371\n",
            "Epoch 21\n",
            "........mini-batch no. 12 loss: 1.0582\n",
            "....train loss: 1.0012 :: EER 0.1489 :: Canc_EER 0.4894 :: D_sys 0.7294\n",
            "....valid loss: 1.0081 :: EER 0.2234 :: Canc_EER 0.4965 :: D_sys 0.6128\n",
            "Epoch 22\n",
            "........mini-batch no. 12 loss: 1.0142\n",
            "....train loss: 1.0012 :: EER 0.1596 :: Canc_EER 0.5000 :: D_sys 0.7162\n",
            "....valid loss: 1.0090 :: EER 0.2340 :: Canc_EER 0.5000 :: D_sys 0.5815\n",
            "Epoch 23\n",
            "........mini-batch no. 12 loss: 1.0442\n",
            "....train loss: 1.0012 :: EER 0.1590 :: Canc_EER 0.4911 :: D_sys 0.7202\n",
            "....valid loss: 1.0097 :: EER 0.2340 :: Canc_EER 0.5000 :: D_sys 0.5856\n",
            "Epoch 24\n",
            "........mini-batch no. 12 loss: 1.0386\n",
            "....train loss: 1.0008 :: EER 0.1516 :: Canc_EER 0.4947 :: D_sys 0.7305\n",
            "....valid loss: 1.0094 :: EER 0.2340 :: Canc_EER 0.5133 :: D_sys 0.5994\n",
            "Epoch 25\n",
            "........mini-batch no. 12 loss: 1.0540\n",
            "....train loss: 1.0006 :: EER 0.1489 :: Canc_EER 0.4947 :: D_sys 0.7436\n",
            "....valid loss: 1.0090 :: EER 0.2234 :: Canc_EER 0.5000 :: D_sys 0.6202\n",
            "Epoch 26\n",
            "........mini-batch no. 12 loss: 1.0428\n",
            "....train loss: 1.0008 :: EER 0.1556 :: Canc_EER 0.4936 :: D_sys 0.7436\n",
            "....valid loss: 1.0087 :: EER 0.2128 :: Canc_EER 0.5106 :: D_sys 0.6243\n",
            "....Saving...\n",
            "Epoch 27\n",
            "........mini-batch no. 12 loss: 1.0439\n",
            "....train loss: 1.0008 :: EER 0.1543 :: Canc_EER 0.4947 :: D_sys 0.7414\n",
            "....valid loss: 1.0085 :: EER 0.2234 :: Canc_EER 0.5053 :: D_sys 0.6205\n",
            "Epoch 28\n",
            "........mini-batch no. 12 loss: 1.0448\n",
            "....train loss: 1.0010 :: EER 0.1476 :: Canc_EER 0.4894 :: D_sys 0.7487\n",
            "....valid loss: 1.0079 :: EER 0.2128 :: Canc_EER 0.5106 :: D_sys 0.6241\n",
            "Epoch 29\n",
            "........mini-batch no. 12 loss: 1.0347\n",
            "....train loss: 1.0006 :: EER 0.1463 :: Canc_EER 0.4947 :: D_sys 0.7539\n",
            "....valid loss: 1.0085 :: EER 0.2128 :: Canc_EER 0.5106 :: D_sys 0.6307\n",
            "Epoch 30\n",
            "........mini-batch no. 12 loss: 1.0095\n",
            "....train loss: 1.0003 :: EER 0.1401 :: Canc_EER 0.4911 :: D_sys 0.7691\n",
            "....valid loss: 1.0076 :: EER 0.1862 :: Canc_EER 0.5000 :: D_sys 0.6405\n",
            "....Saving...\n",
            "Epoch 31\n",
            "........mini-batch no. 12 loss: 0.9990\n",
            "....train loss: 1.0003 :: EER 0.1436 :: Canc_EER 0.4941 :: D_sys 0.7729\n",
            "....valid loss: 1.0074 :: EER 0.1915 :: Canc_EER 0.5000 :: D_sys 0.6342\n",
            "Epoch 32\n",
            "........mini-batch no. 12 loss: 1.0429\n",
            "....train loss: 1.0002 :: EER 0.1396 :: Canc_EER 0.4920 :: D_sys 0.7784\n",
            "....valid loss: 1.0065 :: EER 0.1809 :: Canc_EER 0.5000 :: D_sys 0.6430\n",
            "....Saving...\n",
            "Epoch 33\n",
            "........mini-batch no. 12 loss: 1.0281\n",
            "....train loss: 1.0004 :: EER 0.1383 :: Canc_EER 0.4904 :: D_sys 0.7700\n",
            "....valid loss: 1.0059 :: EER 0.2021 :: Canc_EER 0.4947 :: D_sys 0.6254\n",
            "Epoch 34\n",
            "........mini-batch no. 12 loss: 1.0565\n",
            "....train loss: 1.0008 :: EER 0.1383 :: Canc_EER 0.4960 :: D_sys 0.7510\n",
            "....valid loss: 1.0065 :: EER 0.2128 :: Canc_EER 0.4947 :: D_sys 0.5947\n",
            "Epoch 35\n",
            "........mini-batch no. 12 loss: 0.9864\n",
            "....train loss: 1.0012 :: EER 0.1396 :: Canc_EER 0.4944 :: D_sys 0.7354\n",
            "....valid loss: 1.0064 :: EER 0.2234 :: Canc_EER 0.5000 :: D_sys 0.5871\n",
            "Epoch 36\n",
            "........mini-batch no. 12 loss: 1.0224\n",
            "....train loss: 1.0012 :: EER 0.1476 :: Canc_EER 0.4894 :: D_sys 0.7297\n",
            "....valid loss: 1.0061 :: EER 0.2021 :: Canc_EER 0.5000 :: D_sys 0.6030\n",
            "Epoch 37\n",
            "........mini-batch no. 12 loss: 1.0455\n",
            "....train loss: 1.0006 :: EER 0.1445 :: Canc_EER 0.4886 :: D_sys 0.7345\n",
            "....valid loss: 1.0059 :: EER 0.1915 :: Canc_EER 0.4947 :: D_sys 0.6263\n",
            "Epoch 38\n",
            "........mini-batch no. 12 loss: 1.0403\n",
            "....train loss: 1.0000 :: EER 0.1346 :: Canc_EER 0.4934 :: D_sys 0.7526\n",
            "....valid loss: 1.0048 :: EER 0.1702 :: Canc_EER 0.4947 :: D_sys 0.6535\n",
            "....Saving...\n",
            "Epoch 39\n",
            "........mini-batch no. 12 loss: 1.0120\n",
            "....train loss: 0.9993 :: EER 0.1330 :: Canc_EER 0.4900 :: D_sys 0.7629\n",
            "....valid loss: 1.0048 :: EER 0.1809 :: Canc_EER 0.4973 :: D_sys 0.6671\n",
            "Epoch 40\n",
            "........mini-batch no. 12 loss: 1.0129\n",
            "....train loss: 0.9992 :: EER 0.1250 :: Canc_EER 0.4907 :: D_sys 0.7801\n",
            "....valid loss: 1.0041 :: EER 0.1702 :: Canc_EER 0.5106 :: D_sys 0.6824\n",
            "Epoch 41\n",
            "........mini-batch no. 12 loss: 1.0250\n",
            "....train loss: 0.9992 :: EER 0.1170 :: Canc_EER 0.4965 :: D_sys 0.7903\n",
            "....valid loss: 1.0045 :: EER 0.1596 :: Canc_EER 0.5106 :: D_sys 0.6907\n",
            "....Saving...\n",
            "Epoch 42\n",
            "........mini-batch no. 12 loss: 1.0146\n",
            "....train loss: 0.9992 :: EER 0.1197 :: Canc_EER 0.4938 :: D_sys 0.7925\n",
            "....valid loss: 1.0045 :: EER 0.1702 :: Canc_EER 0.5053 :: D_sys 0.6990\n",
            "Epoch 43\n",
            "........mini-batch no. 12 loss: 1.0408\n",
            "....train loss: 0.9992 :: EER 0.1277 :: Canc_EER 0.4899 :: D_sys 0.7891\n",
            "....valid loss: 1.0041 :: EER 0.1702 :: Canc_EER 0.5000 :: D_sys 0.7059\n",
            "Epoch 44\n",
            "........mini-batch no. 12 loss: 0.9954\n",
            "....train loss: 0.9995 :: EER 0.1250 :: Canc_EER 0.4953 :: D_sys 0.7844\n",
            "....valid loss: 1.0040 :: EER 0.1809 :: Canc_EER 0.5000 :: D_sys 0.7002\n",
            "Epoch 45\n",
            "........mini-batch no. 12 loss: 1.0207\n",
            "....train loss: 0.9992 :: EER 0.1303 :: Canc_EER 0.4920 :: D_sys 0.7745\n",
            "....valid loss: 1.0041 :: EER 0.2021 :: Canc_EER 0.5000 :: D_sys 0.6971\n",
            "Epoch 46\n",
            "........mini-batch no. 12 loss: 1.0301\n",
            "....train loss: 0.9992 :: EER 0.1250 :: Canc_EER 0.4929 :: D_sys 0.7540\n",
            "....valid loss: 1.0040 :: EER 0.2021 :: Canc_EER 0.4894 :: D_sys 0.6766\n",
            "Epoch 47\n",
            "........mini-batch no. 12 loss: 1.0050\n",
            "....train loss: 0.9990 :: EER 0.1250 :: Canc_EER 0.4907 :: D_sys 0.7415\n",
            "....valid loss: 1.0035 :: EER 0.1915 :: Canc_EER 0.4965 :: D_sys 0.6694\n",
            "Epoch 48\n",
            "........mini-batch no. 12 loss: 1.0039\n",
            "....train loss: 0.9990 :: EER 0.1277 :: Canc_EER 0.4874 :: D_sys 0.7366\n",
            "....valid loss: 1.0035 :: EER 0.1915 :: Canc_EER 0.5000 :: D_sys 0.6662\n",
            "Epoch 49\n",
            "........mini-batch no. 12 loss: 0.9742\n",
            "....train loss: 0.9986 :: EER 0.1290 :: Canc_EER 0.4814 :: D_sys 0.7423\n",
            "....valid loss: 1.0035 :: EER 0.1809 :: Canc_EER 0.4787 :: D_sys 0.6729\n",
            "Epoch 50\n",
            "........mini-batch no. 12 loss: 1.0393\n",
            "....train loss: 0.9982 :: EER 0.1356 :: Canc_EER 0.4937 :: D_sys 0.7409\n",
            "....valid loss: 1.0029 :: EER 0.2057 :: Canc_EER 0.4894 :: D_sys 0.6724\n"
          ]
        }
      ]
    },
    {
      "cell_type": "markdown",
      "source": [
        "Testing Iris Attention Model"
      ],
      "metadata": {
        "id": "K4sJ0d8Wf29g"
      }
    },
    {
      "cell_type": "code",
      "source": [
        "!python face_test_secure_model.py"
      ],
      "metadata": {
        "colab": {
          "base_uri": "https://localhost:8080/"
        },
        "id": "n1-wOcDY5Xbv",
        "outputId": "f6d409a0-8bde-4566-c6db-17348d14981d"
      },
      "execution_count": 35,
      "outputs": [
        {
          "output_type": "stream",
          "name": "stdout",
          "text": [
            "Testing model: Securetl_Iris_Attention_model_50\n",
            "EER 0.1833 at threshold 0.2185 :: Canc_EER 0.4833 at threshold 0.1367 :: d_sys 0.7767\n",
            "Privacy Leakage Rate 1.0000, Secrecy Leakage 1.3290\n"
          ]
        }
      ]
    },
    {
      "cell_type": "markdown",
      "source": [
        "Summary"
      ],
      "metadata": {
        "id": "KNRokK_H4BhX"
      }
    },
    {
      "cell_type": "markdown",
      "source": [
        "\n",
        "\n",
        "1.   Epochs = 5; EER 0.2000 at threshold 0.1701 :: Canc_EER 0.5000 at threshold 0.1211 :: d_sys 0.6949\n",
        "Privacy Leakage Rate 1.0000, Secrecy Leakage 1.3290\n",
        "2.   Epochs = 50; EER 0.1833 at threshold 0.2185 :: Canc_EER 0.4833 at threshold 0.1367 :: d_sys 0.7767\n",
        "Privacy Leakage Rate 1.0000, Secrecy Leakage 1.3290\n",
        "\n"
      ],
      "metadata": {
        "id": "Kr5JLUPigBGg"
      }
    },
    {
      "cell_type": "markdown",
      "source": [
        "# Inception Resnet model\n"
      ],
      "metadata": {
        "id": "H1pWJkacpftv"
      }
    },
    {
      "cell_type": "markdown",
      "source": [
        "preprocessing and triplet generation"
      ],
      "metadata": {
        "id": "rbuGGOGapkPf"
      }
    },
    {
      "cell_type": "code",
      "source": [
        "!python iris_prepare_AMF_inception.py"
      ],
      "metadata": {
        "id": "XuObcxKEijrm",
        "colab": {
          "base_uri": "https://localhost:8080/"
        },
        "outputId": "b7c5447f-d44d-4816-88a8-87e8e12522f6"
      },
      "execution_count": 39,
      "outputs": [
        {
          "output_type": "stream",
          "name": "stdout",
          "text": [
            "Completed train triplets for identity no. 1\n",
            "Completed train triplets for identity no. 2\n",
            "Completed train triplets for identity no. 3\n",
            "Completed train triplets for identity no. 4\n",
            "Completed train triplets for identity no. 5\n",
            "Completed train triplets for identity no. 6\n",
            "Completed train triplets for identity no. 7\n",
            "Completed train triplets for identity no. 8\n",
            "Completed train triplets for identity no. 9\n",
            "Completed train triplets for identity no. 10\n",
            "Completed train triplets for identity no. 11\n",
            "Completed train triplets for identity no. 12\n",
            "Completed train triplets for identity no. 13\n",
            "Completed train triplets for identity no. 14\n",
            "Completed train triplets for identity no. 15\n",
            "Completed train triplets for identity no. 16\n",
            "Completed train triplets for identity no. 17\n",
            "Completed train triplets for identity no. 18\n",
            "Completed train triplets for identity no. 19\n",
            "Completed train triplets for identity no. 20\n",
            "Completed train triplets for identity no. 21\n",
            "Completed train triplets for identity no. 22\n",
            "Completed train triplets for identity no. 23\n",
            "Completed train triplets for identity no. 24\n",
            "Completed train triplets for identity no. 25\n",
            "Completed train triplets for identity no. 26\n",
            "Completed train triplets for identity no. 27\n",
            "Completed train triplets for identity no. 28\n",
            "Completed train triplets for identity no. 29\n",
            "Completed train triplets for identity no. 30\n",
            "Completed train triplets for identity no. 31\n",
            "Completed train triplets for identity no. 32\n",
            "Completed train triplets for identity no. 33\n",
            "Completed train triplets for identity no. 34\n",
            "Completed train triplets for identity no. 35\n",
            "Completed train triplets for identity no. 36\n",
            "Completed train triplets for identity no. 37\n",
            "Completed train triplets for identity no. 38\n",
            "Completed train triplets for identity no. 39\n",
            "Completed train triplets for identity no. 40\n",
            "Completed train triplets for identity no. 41\n",
            "Completed train triplets for identity no. 42\n",
            "Completed train triplets for identity no. 43\n",
            "Completed train triplets for identity no. 44\n",
            "Completed train triplets for identity no. 45\n",
            "Completed train triplets for identity no. 46\n",
            "Completed train triplets for identity no. 47\n",
            "Completed test triplets for identity no. 1\n",
            "Completed test triplets for identity no. 2\n",
            "Completed test triplets for identity no. 3\n",
            "Completed test triplets for identity no. 4\n",
            "Completed test triplets for identity no. 5\n",
            "Completed test triplets for identity no. 6\n"
          ]
        }
      ]
    },
    {
      "cell_type": "markdown",
      "source": [
        "Training the Inception Resnet model"
      ],
      "metadata": {
        "id": "ec_vBi1Os2hw"
      }
    },
    {
      "cell_type": "code",
      "source": [
        "!python iris_train_inception_model.py"
      ],
      "metadata": {
        "id": "8O_o6z63iqgA",
        "colab": {
          "base_uri": "https://localhost:8080/"
        },
        "outputId": "0705770a-a8c3-4f18-c522-82d01ea019a2"
      },
      "execution_count": 42,
      "outputs": [
        {
          "output_type": "stream",
          "name": "stdout",
          "text": [
            "Training model: Securetl_Iris_Inception_model_50\n",
            "Epoch 1\n",
            "........mini-batch no. 12 loss: 1.0220\n",
            "....train loss: 1.0042 :: EER 0.3393 :: Canc_EER 0.4752 :: D_sys 0.2909\n",
            "....valid loss: 1.0062 :: EER 0.3989 :: Canc_EER 0.4924 :: D_sys 0.2390\n",
            "....Saving...\n",
            "Epoch 2\n",
            "........mini-batch no. 12 loss: 1.0033\n",
            "....train loss: 1.0022 :: EER 0.2843 :: Canc_EER 0.4725 :: D_sys 0.4943\n",
            "....valid loss: 1.0070 :: EER 0.3723 :: Canc_EER 0.5000 :: D_sys 0.2673\n",
            "....Saving...\n",
            "Epoch 3\n",
            "........mini-batch no. 12 loss: 1.0044\n",
            "....train loss: 1.0014 :: EER 0.2703 :: Canc_EER 0.4828 :: D_sys 0.6079\n",
            "....valid loss: 1.0039 :: EER 0.3298 :: Canc_EER 0.5000 :: D_sys 0.4158\n",
            "....Saving...\n",
            "Epoch 4\n",
            "........mini-batch no. 12 loss: 1.0177\n",
            "....train loss: 1.0010 :: EER 0.2293 :: Canc_EER 0.4754 :: D_sys 0.6700\n",
            "....valid loss: 1.0041 :: EER 0.3340 :: Canc_EER 0.4681 :: D_sys 0.4386\n",
            "Epoch 5\n",
            "........mini-batch no. 12 loss: 1.0064\n",
            "....train loss: 0.9995 :: EER 0.1872 :: Canc_EER 0.4697 :: D_sys 0.7646\n",
            "....valid loss: 1.0001 :: EER 0.2411 :: Canc_EER 0.4681 :: D_sys 0.5931\n",
            "....Saving...\n",
            "Epoch 6\n",
            "........mini-batch no. 12 loss: 1.0129\n",
            "....train loss: 0.9990 :: EER 0.1897 :: Canc_EER 0.4716 :: D_sys 0.8114\n",
            "....valid loss: 1.0026 :: EER 0.2234 :: Canc_EER 0.4863 :: D_sys 0.6618\n",
            "....Saving...\n",
            "Epoch 7\n",
            "........mini-batch no. 12 loss: 1.0107\n",
            "....train loss: 0.9988 :: EER 0.1838 :: Canc_EER 0.4701 :: D_sys 0.8166\n",
            "....valid loss: 1.0015 :: EER 0.2376 :: Canc_EER 0.4947 :: D_sys 0.7243\n",
            "Epoch 8\n",
            "........mini-batch no. 12 loss: 1.0096\n",
            "....train loss: 0.9981 :: EER 0.1594 :: Canc_EER 0.4535 :: D_sys 0.8340\n",
            "....valid loss: 1.0002 :: EER 0.1809 :: Canc_EER 0.4681 :: D_sys 0.7900\n",
            "....Saving...\n",
            "Epoch 9\n",
            "........mini-batch no. 12 loss: 1.0157\n",
            "....train loss: 0.9980 :: EER 0.1396 :: Canc_EER 0.4705 :: D_sys 0.8640\n",
            "....valid loss: 1.0019 :: EER 0.1702 :: Canc_EER 0.4924 :: D_sys 0.7582\n",
            "....Saving...\n",
            "Epoch 10\n",
            "........mini-batch no. 12 loss: 0.9976\n",
            "....train loss: 0.9977 :: EER 0.1474 :: Canc_EER 0.4666 :: D_sys 0.8594\n",
            "....valid loss: 1.0010 :: EER 0.1649 :: Canc_EER 0.4833 :: D_sys 0.7925\n",
            "....Saving...\n",
            "Epoch 11\n",
            "........mini-batch no. 12 loss: 1.0109\n",
            "....train loss: 0.9956 :: EER 0.1144 :: Canc_EER 0.4660 :: D_sys 0.8862\n",
            "....valid loss: 1.0017 :: EER 0.1809 :: Canc_EER 0.4880 :: D_sys 0.8206\n",
            "Epoch 12\n",
            "........mini-batch no. 12 loss: 0.9990\n",
            "....train loss: 0.9961 :: EER 0.1316 :: Canc_EER 0.4613 :: D_sys 0.8765\n",
            "....valid loss: 1.0011 :: EER 0.1844 :: Canc_EER 0.4830 :: D_sys 0.8210\n",
            "Epoch 13\n",
            "........mini-batch no. 12 loss: 1.0016\n",
            "....train loss: 0.9953 :: EER 0.1090 :: Canc_EER 0.4544 :: D_sys 0.9113\n",
            "....valid loss: 1.0009 :: EER 0.1383 :: Canc_EER 0.5000 :: D_sys 0.8496\n",
            "....Saving...\n",
            "Epoch 14\n",
            "........mini-batch no. 12 loss: 0.9988\n",
            "....train loss: 0.9960 :: EER 0.1319 :: Canc_EER 0.4782 :: D_sys 0.8902\n",
            "....valid loss: 1.0006 :: EER 0.1489 :: Canc_EER 0.4965 :: D_sys 0.8568\n",
            "Epoch 15\n",
            "........mini-batch no. 12 loss: 1.0116\n",
            "....train loss: 0.9946 :: EER 0.1048 :: Canc_EER 0.4499 :: D_sys 0.9049\n",
            "....valid loss: 1.0014 :: EER 0.1596 :: Canc_EER 0.5053 :: D_sys 0.8193\n",
            "Epoch 16\n",
            "........mini-batch no. 12 loss: 0.9992\n",
            "....train loss: 0.9954 :: EER 0.1090 :: Canc_EER 0.4737 :: D_sys 0.8923\n",
            "....valid loss: 1.0007 :: EER 0.1489 :: Canc_EER 0.4761 :: D_sys 0.8524\n",
            "Epoch 17\n",
            "........mini-batch no. 12 loss: 1.0014\n",
            "....train loss: 0.9949 :: EER 0.1296 :: Canc_EER 0.4606 :: D_sys 0.9034\n",
            "....valid loss: 1.0009 :: EER 0.1596 :: Canc_EER 0.4979 :: D_sys 0.8762\n",
            "Epoch 18\n",
            "........mini-batch no. 12 loss: 0.9978\n",
            "....train loss: 0.9939 :: EER 0.1130 :: Canc_EER 0.4748 :: D_sys 0.9015\n",
            "....valid loss: 1.0004 :: EER 0.1702 :: Canc_EER 0.4823 :: D_sys 0.8550\n",
            "Epoch 19\n",
            "........mini-batch no. 12 loss: 0.9969\n",
            "....train loss: 0.9939 :: EER 0.1094 :: Canc_EER 0.4600 :: D_sys 0.9050\n",
            "....valid loss: 1.0014 :: EER 0.2021 :: Canc_EER 0.5000 :: D_sys 0.8458\n",
            "Epoch 20\n",
            "........mini-batch no. 12 loss: 1.0016\n",
            "....train loss: 0.9935 :: EER 0.1170 :: Canc_EER 0.4618 :: D_sys 0.9058\n",
            "....valid loss: 0.9998 :: EER 0.1702 :: Canc_EER 0.5000 :: D_sys 0.8126\n",
            "Epoch 21\n",
            "........mini-batch no. 12 loss: 1.0195\n",
            "....train loss: 0.9933 :: EER 0.0973 :: Canc_EER 0.4495 :: D_sys 0.9170\n",
            "....valid loss: 1.0003 :: EER 0.1436 :: Canc_EER 0.5035 :: D_sys 0.7903\n",
            "Epoch 22\n",
            "........mini-batch no. 12 loss: 1.0221\n",
            "....train loss: 0.9929 :: EER 0.1011 :: Canc_EER 0.4468 :: D_sys 0.9137\n",
            "....valid loss: 1.0003 :: EER 0.1489 :: Canc_EER 0.4894 :: D_sys 0.8329\n",
            "Epoch 23\n",
            "........mini-batch no. 12 loss: 0.9979\n",
            "....train loss: 0.9923 :: EER 0.1166 :: Canc_EER 0.4504 :: D_sys 0.9027\n",
            "....valid loss: 0.9986 :: EER 0.1277 :: Canc_EER 0.4848 :: D_sys 0.8568\n",
            "....Saving...\n",
            "Epoch 24\n",
            "........mini-batch no. 12 loss: 0.9941\n",
            "....train loss: 0.9921 :: EER 0.1223 :: Canc_EER 0.4548 :: D_sys 0.9068\n",
            "....valid loss: 0.9993 :: EER 0.1745 :: Canc_EER 0.4766 :: D_sys 0.8200\n",
            "Epoch 25\n",
            "........mini-batch no. 12 loss: 1.0055\n",
            "....train loss: 0.9916 :: EER 0.0966 :: Canc_EER 0.4601 :: D_sys 0.9205\n",
            "....valid loss: 0.9974 :: EER 0.1383 :: Canc_EER 0.4787 :: D_sys 0.8730\n",
            "Epoch 26\n",
            "........mini-batch no. 12 loss: 1.0078\n",
            "....train loss: 0.9916 :: EER 0.0968 :: Canc_EER 0.4502 :: D_sys 0.9078\n",
            "....valid loss: 0.9998 :: EER 0.1277 :: Canc_EER 0.4851 :: D_sys 0.8570\n",
            "....Saving...\n",
            "Epoch 27\n",
            "........mini-batch no. 12 loss: 0.9866\n",
            "....train loss: 0.9908 :: EER 0.1011 :: Canc_EER 0.4428 :: D_sys 0.9149\n",
            "....valid loss: 0.9982 :: EER 0.1277 :: Canc_EER 0.5035 :: D_sys 0.8510\n",
            "....Saving...\n",
            "Epoch 28\n",
            "........mini-batch no. 12 loss: 0.9970\n",
            "....train loss: 0.9904 :: EER 0.0949 :: Canc_EER 0.4415 :: D_sys 0.9134\n",
            "....valid loss: 0.9993 :: EER 0.1383 :: Canc_EER 0.4894 :: D_sys 0.8136\n",
            "Epoch 29\n",
            "........mini-batch no. 12 loss: 0.9943\n",
            "....train loss: 0.9898 :: EER 0.1028 :: Canc_EER 0.4641 :: D_sys 0.9082\n",
            "....valid loss: 0.9989 :: EER 0.1277 :: Canc_EER 0.4858 :: D_sys 0.8499\n",
            "Epoch 30\n",
            "........mini-batch no. 12 loss: 0.9791\n",
            "....train loss: 0.9894 :: EER 0.0830 :: Canc_EER 0.4481 :: D_sys 0.9146\n",
            "....valid loss: 0.9994 :: EER 0.1543 :: Canc_EER 0.4745 :: D_sys 0.8422\n",
            "Epoch 31\n",
            "........mini-batch no. 12 loss: 1.0105\n",
            "....train loss: 0.9887 :: EER 0.0997 :: Canc_EER 0.4326 :: D_sys 0.9108\n",
            "....valid loss: 0.9995 :: EER 0.1277 :: Canc_EER 0.5000 :: D_sys 0.8589\n",
            "Epoch 32\n",
            "........mini-batch no. 12 loss: 0.9918\n",
            "....train loss: 0.9885 :: EER 0.0904 :: Canc_EER 0.4576 :: D_sys 0.9188\n",
            "....valid loss: 0.9997 :: EER 0.1489 :: Canc_EER 0.5030 :: D_sys 0.8608\n",
            "Epoch 33\n",
            "........mini-batch no. 12 loss: 0.9986\n",
            "....train loss: 0.9872 :: EER 0.0824 :: Canc_EER 0.4520 :: D_sys 0.9104\n",
            "....valid loss: 1.0003 :: EER 0.1383 :: Canc_EER 0.4872 :: D_sys 0.8267\n",
            "Epoch 34\n",
            "........mini-batch no. 12 loss: 0.9869\n",
            "....train loss: 0.9866 :: EER 0.0824 :: Canc_EER 0.4450 :: D_sys 0.9186\n",
            "....valid loss: 0.9997 :: EER 0.1064 :: Canc_EER 0.5000 :: D_sys 0.8952\n",
            "....Saving...\n",
            "Epoch 35\n",
            "........mini-batch no. 12 loss: 0.9969\n",
            "....train loss: 0.9873 :: EER 0.0638 :: Canc_EER 0.4470 :: D_sys 0.9302\n",
            "....valid loss: 0.9986 :: EER 0.1170 :: Canc_EER 0.4823 :: D_sys 0.9148\n",
            "Epoch 36\n",
            "........mini-batch no. 12 loss: 0.9950\n",
            "....train loss: 0.9857 :: EER 0.0665 :: Canc_EER 0.4466 :: D_sys 0.9175\n",
            "....valid loss: 0.9991 :: EER 0.1170 :: Canc_EER 0.4939 :: D_sys 0.8837\n",
            "Epoch 37\n",
            "........mini-batch no. 12 loss: 1.0045\n",
            "....train loss: 0.9852 :: EER 0.0691 :: Canc_EER 0.4430 :: D_sys 0.9166\n",
            "....valid loss: 0.9991 :: EER 0.1277 :: Canc_EER 0.4827 :: D_sys 0.8867\n",
            "Epoch 38\n",
            "........mini-batch no. 12 loss: 0.9968\n",
            "....train loss: 0.9844 :: EER 0.0545 :: Canc_EER 0.4394 :: D_sys 0.9336\n",
            "....valid loss: 0.9987 :: EER 0.1170 :: Canc_EER 0.4894 :: D_sys 0.8880\n",
            "Epoch 39\n",
            "........mini-batch no. 12 loss: 0.9698\n",
            "....train loss: 0.9838 :: EER 0.0559 :: Canc_EER 0.4443 :: D_sys 0.9282\n",
            "....valid loss: 0.9980 :: EER 0.1277 :: Canc_EER 0.4726 :: D_sys 0.8854\n",
            "Epoch 40\n",
            "........mini-batch no. 12 loss: 0.9933\n",
            "....train loss: 0.9826 :: EER 0.0681 :: Canc_EER 0.4176 :: D_sys 0.9111\n",
            "....valid loss: 0.9983 :: EER 0.0851 :: Canc_EER 0.5106 :: D_sys 0.8570\n",
            "....Saving...\n",
            "Epoch 41\n",
            "........mini-batch no. 12 loss: 0.9935\n",
            "....train loss: 0.9816 :: EER 0.0665 :: Canc_EER 0.4348 :: D_sys 0.9236\n",
            "....valid loss: 0.9982 :: EER 0.1064 :: Canc_EER 0.4574 :: D_sys 0.8652\n",
            "Epoch 42\n",
            "........mini-batch no. 12 loss: 0.9861\n",
            "....train loss: 0.9812 :: EER 0.0612 :: Canc_EER 0.4431 :: D_sys 0.9225\n",
            "....valid loss: 0.9985 :: EER 0.1223 :: Canc_EER 0.4787 :: D_sys 0.8880\n",
            "Epoch 43\n",
            "........mini-batch no. 12 loss: 0.9828\n",
            "....train loss: 0.9796 :: EER 0.0559 :: Canc_EER 0.4223 :: D_sys 0.9284\n",
            "....valid loss: 0.9978 :: EER 0.1277 :: Canc_EER 0.5000 :: D_sys 0.8595\n",
            "Epoch 44\n",
            "........mini-batch no. 12 loss: 0.9849\n",
            "....train loss: 0.9790 :: EER 0.0665 :: Canc_EER 0.4221 :: D_sys 0.9276\n",
            "....valid loss: 0.9980 :: EER 0.1099 :: Canc_EER 0.4929 :: D_sys 0.8958\n",
            "Epoch 45\n",
            "........mini-batch no. 12 loss: 0.9976\n",
            "....train loss: 0.9783 :: EER 0.0672 :: Canc_EER 0.4079 :: D_sys 0.9386\n",
            "....valid loss: 0.9985 :: EER 0.1064 :: Canc_EER 0.5080 :: D_sys 0.8961\n",
            "Epoch 46\n",
            "........mini-batch no. 12 loss: 0.9888\n",
            "....train loss: 0.9779 :: EER 0.0798 :: Canc_EER 0.4176 :: D_sys 0.9180\n",
            "....valid loss: 0.9985 :: EER 0.1489 :: Canc_EER 0.4521 :: D_sys 0.8376\n",
            "Epoch 47\n",
            "........mini-batch no. 12 loss: 0.9864\n",
            "....train loss: 0.9765 :: EER 0.0745 :: Canc_EER 0.4136 :: D_sys 0.9337\n",
            "....valid loss: 0.9994 :: EER 0.1489 :: Canc_EER 0.4668 :: D_sys 0.8943\n",
            "Epoch 48\n",
            "........mini-batch no. 12 loss: 0.9852\n",
            "....train loss: 0.9750 :: EER 0.0771 :: Canc_EER 0.3959 :: D_sys 0.9206\n",
            "....valid loss: 0.9971 :: EER 0.1418 :: Canc_EER 0.4894 :: D_sys 0.9114\n",
            "Epoch 49\n",
            "........mini-batch no. 12 loss: 0.9925\n",
            "....train loss: 0.9738 :: EER 0.0585 :: Canc_EER 0.4014 :: D_sys 0.9309\n",
            "....valid loss: 0.9984 :: EER 0.1383 :: Canc_EER 0.4787 :: D_sys 0.8899\n",
            "Epoch 50\n",
            "........mini-batch no. 12 loss: 0.9930\n",
            "....train loss: 0.9732 :: EER 0.0585 :: Canc_EER 0.3967 :: D_sys 0.9330\n",
            "....valid loss: 0.9972 :: EER 0.1277 :: Canc_EER 0.4660 :: D_sys 0.8792\n"
          ]
        }
      ]
    },
    {
      "cell_type": "markdown",
      "source": [
        "Testing the Inception Resnet Model\n"
      ],
      "metadata": {
        "id": "1XduaEeQub5I"
      }
    },
    {
      "cell_type": "code",
      "source": [
        "!python iris_test_secure_inception_model.py"
      ],
      "metadata": {
        "id": "-6pffAXpgaTO",
        "colab": {
          "base_uri": "https://localhost:8080/"
        },
        "outputId": "003c75a1-8aeb-47c8-e2ae-3e550c1be8ca"
      },
      "execution_count": 43,
      "outputs": [
        {
          "output_type": "stream",
          "name": "stdout",
          "text": [
            "Testing model: Securetl_Iris_Inception_model_50\n",
            "EER 0.2500 at threshold 0.0819 :: Canc_EER 0.4833 at threshold 0.0603 :: d_sys 0.6983\n",
            "Privacy Leakage Rate 1.0000, Secrecy Leakage 1.3290\n"
          ]
        }
      ]
    },
    {
      "cell_type": "markdown",
      "source": [
        "Summary"
      ],
      "metadata": {
        "id": "gn2j_8Aj4Gm5"
      }
    },
    {
      "cell_type": "markdown",
      "source": [
        "\n",
        "\n",
        "1.   Epochs = 5; EER 0.2000 at threshold 0.0674 :: Canc_EER 0.5000 at threshold 0.0519 :: d_sys 0.6529\n",
        "Privacy Leakage Rate 1.0000, Secrecy Leakage 1.3290\n",
        "2.   Epochs = 50; EER 0.2500 at threshold 0.0819 :: Canc_EER 0.4833 at threshold 0.0603 :: d_sys 0.6983\n",
        "Privacy Leakage Rate 1.0000, Secrecy Leakage 1.3290\n",
        "\n"
      ],
      "metadata": {
        "id": "xh1yCw6-vRun"
      }
    },
    {
      "cell_type": "markdown",
      "source": [
        "# Vision Transformer - Vit_b_16 model "
      ],
      "metadata": {
        "id": "TLgYlx-QwUKN"
      }
    },
    {
      "cell_type": "code",
      "source": [
        "!python iris_train_securetl_attention_model.py"
      ],
      "metadata": {
        "colab": {
          "base_uri": "https://localhost:8080/"
        },
        "id": "xOEWfkPmfqEN",
        "outputId": "792c8509-f375-4aba-8d10-df62a68d1535"
      },
      "execution_count": 6,
      "outputs": [
        {
          "output_type": "stream",
          "name": "stdout",
          "text": [
            "Training model: Securetl_Iris_Attention_model_16b_50\n",
            "Downloading: \"https://download.pytorch.org/models/vit_b_16-c867db91.pth\" to /root/.cache/torch/hub/checkpoints/vit_b_16-c867db91.pth\n",
            "100% 330M/330M [00:02<00:00, 159MB/s]\n",
            "Epoch 1\n",
            "........mini-batch no. 12 loss: 1.1253\n",
            "....train loss: 1.0127 :: EER 0.2686 :: Canc_EER 0.4975 :: D_sys 0.5405\n",
            "....valid loss: 1.0098 :: EER 0.2695 :: Canc_EER 0.5085 :: D_sys 0.5668\n",
            "....Saving...\n",
            "Epoch 2\n",
            "........mini-batch no. 12 loss: 1.0873\n",
            "....train loss: 1.0101 :: EER 0.2596 :: Canc_EER 0.4963 :: D_sys 0.5897\n",
            "....valid loss: 1.0079 :: EER 0.2553 :: Canc_EER 0.5053 :: D_sys 0.5963\n",
            "....Saving...\n",
            "Epoch 3\n",
            "........mini-batch no. 12 loss: 1.0439\n",
            "....train loss: 1.0087 :: EER 0.2453 :: Canc_EER 0.4844 :: D_sys 0.6193\n",
            "....valid loss: 1.0070 :: EER 0.2553 :: Canc_EER 0.5000 :: D_sys 0.5891\n",
            "Epoch 4\n",
            "........mini-batch no. 12 loss: 1.1371\n",
            "....train loss: 1.0075 :: EER 0.2351 :: Canc_EER 0.4945 :: D_sys 0.6370\n",
            "....valid loss: 1.0060 :: EER 0.2340 :: Canc_EER 0.5000 :: D_sys 0.5885\n",
            "....Saving...\n",
            "Epoch 5\n",
            "........mini-batch no. 12 loss: 1.1393\n",
            "....train loss: 1.0073 :: EER 0.2376 :: Canc_EER 0.5034 :: D_sys 0.6439\n",
            "....valid loss: 1.0061 :: EER 0.2340 :: Canc_EER 0.4965 :: D_sys 0.5745\n",
            "Epoch 6\n",
            "........mini-batch no. 12 loss: 1.0433\n",
            "....train loss: 1.0070 :: EER 0.2238 :: Canc_EER 0.4987 :: D_sys 0.6554\n",
            "....valid loss: 1.0062 :: EER 0.2340 :: Canc_EER 0.5000 :: D_sys 0.5772\n",
            "Epoch 7\n",
            "........mini-batch no. 12 loss: 1.0457\n",
            "....train loss: 1.0063 :: EER 0.2207 :: Canc_EER 0.4920 :: D_sys 0.6585\n",
            "....valid loss: 1.0059 :: EER 0.2340 :: Canc_EER 0.5053 :: D_sys 0.5809\n",
            "Epoch 8\n",
            "........mini-batch no. 12 loss: 1.0747\n",
            "....train loss: 1.0067 :: EER 0.2171 :: Canc_EER 0.4920 :: D_sys 0.6678\n",
            "....valid loss: 1.0053 :: EER 0.2287 :: Canc_EER 0.5035 :: D_sys 0.5909\n",
            "....Saving...\n",
            "Epoch 9\n",
            "........mini-batch no. 12 loss: 1.1153\n",
            "....train loss: 1.0064 :: EER 0.2128 :: Canc_EER 0.5030 :: D_sys 0.6818\n",
            "....valid loss: 1.0049 :: EER 0.2092 :: Canc_EER 0.5000 :: D_sys 0.6107\n",
            "....Saving...\n",
            "Epoch 10\n",
            "........mini-batch no. 12 loss: 1.0665\n",
            "....train loss: 1.0056 :: EER 0.2122 :: Canc_EER 0.4967 :: D_sys 0.7023\n",
            "....valid loss: 1.0045 :: EER 0.2021 :: Canc_EER 0.5000 :: D_sys 0.6190\n",
            "....Saving...\n",
            "Epoch 11\n",
            "........mini-batch no. 12 loss: 1.0906\n",
            "....train loss: 1.0046 :: EER 0.1995 :: Canc_EER 0.4908 :: D_sys 0.7117\n",
            "....valid loss: 1.0040 :: EER 0.2128 :: Canc_EER 0.4979 :: D_sys 0.6246\n",
            "Epoch 12\n",
            "........mini-batch no. 12 loss: 1.1209\n",
            "....train loss: 1.0044 :: EER 0.1986 :: Canc_EER 0.4911 :: D_sys 0.7116\n",
            "....valid loss: 1.0043 :: EER 0.1936 :: Canc_EER 0.5053 :: D_sys 0.6344\n",
            "....Saving...\n",
            "Epoch 13\n",
            "........mini-batch no. 12 loss: 1.0871\n",
            "....train loss: 1.0044 :: EER 0.2035 :: Canc_EER 0.5064 :: D_sys 0.7083\n",
            "....valid loss: 1.0043 :: EER 0.2021 :: Canc_EER 0.5000 :: D_sys 0.6375\n",
            "Epoch 14\n",
            "........mini-batch no. 12 loss: 1.0527\n",
            "....train loss: 1.0044 :: EER 0.2008 :: Canc_EER 0.4998 :: D_sys 0.7154\n",
            "....valid loss: 1.0032 :: EER 0.2128 :: Canc_EER 0.4947 :: D_sys 0.6595\n",
            "Epoch 15\n",
            "........mini-batch no. 12 loss: 1.0231\n",
            "....train loss: 1.0043 :: EER 0.1964 :: Canc_EER 0.4992 :: D_sys 0.7140\n",
            "....valid loss: 1.0031 :: EER 0.2128 :: Canc_EER 0.5000 :: D_sys 0.6567\n",
            "Epoch 16\n",
            "........mini-batch no. 12 loss: 1.0690\n",
            "....train loss: 1.0044 :: EER 0.2061 :: Canc_EER 0.4943 :: D_sys 0.6958\n",
            "....valid loss: 1.0036 :: EER 0.2340 :: Canc_EER 0.4979 :: D_sys 0.6367\n",
            "Epoch 17\n",
            "........mini-batch no. 12 loss: 1.0920\n",
            "....train loss: 1.0042 :: EER 0.2048 :: Canc_EER 0.4982 :: D_sys 0.6906\n",
            "....valid loss: 1.0036 :: EER 0.2234 :: Canc_EER 0.5106 :: D_sys 0.6344\n",
            "Epoch 18\n",
            "........mini-batch no. 12 loss: 1.0537\n",
            "....train loss: 1.0045 :: EER 0.2081 :: Canc_EER 0.4979 :: D_sys 0.6945\n",
            "....valid loss: 1.0039 :: EER 0.2340 :: Canc_EER 0.5000 :: D_sys 0.6239\n",
            "Epoch 19\n",
            "........mini-batch no. 12 loss: 1.0677\n",
            "....train loss: 1.0043 :: EER 0.1995 :: Canc_EER 0.4973 :: D_sys 0.7048\n",
            "....valid loss: 1.0034 :: EER 0.2234 :: Canc_EER 0.5000 :: D_sys 0.6240\n",
            "Epoch 20\n",
            "........mini-batch no. 12 loss: 1.0720\n",
            "....train loss: 1.0039 :: EER 0.1924 :: Canc_EER 0.4973 :: D_sys 0.7064\n",
            "....valid loss: 1.0032 :: EER 0.2234 :: Canc_EER 0.4894 :: D_sys 0.6236\n",
            "Epoch 21\n",
            "........mini-batch no. 12 loss: 1.0507\n",
            "....train loss: 1.0041 :: EER 0.1835 :: Canc_EER 0.4997 :: D_sys 0.7054\n",
            "....valid loss: 1.0035 :: EER 0.2340 :: Canc_EER 0.4929 :: D_sys 0.6296\n",
            "Epoch 22\n",
            "........mini-batch no. 12 loss: 1.0515\n",
            "....train loss: 1.0037 :: EER 0.1915 :: Canc_EER 0.4951 :: D_sys 0.7050\n",
            "....valid loss: 1.0033 :: EER 0.2287 :: Canc_EER 0.4840 :: D_sys 0.6258\n",
            "Epoch 23\n",
            "........mini-batch no. 12 loss: 1.0591\n",
            "....train loss: 1.0033 :: EER 0.1881 :: Canc_EER 0.4973 :: D_sys 0.7074\n",
            "....valid loss: 1.0027 :: EER 0.2340 :: Canc_EER 0.4973 :: D_sys 0.6278\n",
            "Epoch 24\n",
            "........mini-batch no. 12 loss: 1.0473\n",
            "....train loss: 1.0032 :: EER 0.1888 :: Canc_EER 0.4993 :: D_sys 0.7036\n",
            "....valid loss: 1.0026 :: EER 0.2340 :: Canc_EER 0.5000 :: D_sys 0.6266\n",
            "Epoch 25\n",
            "........mini-batch no. 12 loss: 1.0524\n",
            "....train loss: 1.0029 :: EER 0.1844 :: Canc_EER 0.5009 :: D_sys 0.7047\n",
            "....valid loss: 1.0027 :: EER 0.2340 :: Canc_EER 0.5106 :: D_sys 0.6201\n",
            "Epoch 26\n",
            "........mini-batch no. 12 loss: 1.0393\n",
            "....train loss: 1.0030 :: EER 0.1835 :: Canc_EER 0.4968 :: D_sys 0.7115\n",
            "....valid loss: 1.0034 :: EER 0.2128 :: Canc_EER 0.5000 :: D_sys 0.6321\n",
            "Epoch 27\n",
            "........mini-batch no. 12 loss: 1.0571\n",
            "....train loss: 1.0030 :: EER 0.1809 :: Canc_EER 0.4976 :: D_sys 0.7169\n",
            "....valid loss: 1.0040 :: EER 0.1915 :: Canc_EER 0.5053 :: D_sys 0.6395\n",
            "....Saving...\n",
            "Epoch 28\n",
            "........mini-batch no. 12 loss: 1.0843\n",
            "....train loss: 1.0030 :: EER 0.1755 :: Canc_EER 0.4947 :: D_sys 0.7333\n",
            "....valid loss: 1.0042 :: EER 0.1809 :: Canc_EER 0.5106 :: D_sys 0.6550\n",
            "....Saving...\n",
            "Epoch 29\n",
            "........mini-batch no. 12 loss: 1.0465\n",
            "....train loss: 1.0025 :: EER 0.1755 :: Canc_EER 0.4966 :: D_sys 0.7380\n",
            "....valid loss: 1.0048 :: EER 0.1809 :: Canc_EER 0.5160 :: D_sys 0.6614\n",
            "....Saving...\n",
            "Epoch 30\n",
            "........mini-batch no. 12 loss: 1.0368\n",
            "....train loss: 1.0025 :: EER 0.1649 :: Canc_EER 0.4920 :: D_sys 0.7410\n",
            "....valid loss: 1.0041 :: EER 0.1596 :: Canc_EER 0.5142 :: D_sys 0.6729\n",
            "....Saving...\n",
            "Epoch 31\n",
            "........mini-batch no. 12 loss: 1.0329\n",
            "....train loss: 1.0020 :: EER 0.1622 :: Canc_EER 0.4963 :: D_sys 0.7539\n",
            "....valid loss: 1.0038 :: EER 0.1596 :: Canc_EER 0.5106 :: D_sys 0.6890\n",
            "Epoch 32\n",
            "........mini-batch no. 12 loss: 1.0033\n",
            "....train loss: 1.0015 :: EER 0.1613 :: Canc_EER 0.4897 :: D_sys 0.7586\n",
            "....valid loss: 1.0039 :: EER 0.1489 :: Canc_EER 0.5053 :: D_sys 0.6997\n",
            "....Saving...\n",
            "Epoch 33\n",
            "........mini-batch no. 12 loss: 1.0684\n",
            "....train loss: 1.0015 :: EER 0.1569 :: Canc_EER 0.4913 :: D_sys 0.7543\n",
            "....valid loss: 1.0047 :: EER 0.1489 :: Canc_EER 0.5106 :: D_sys 0.6896\n",
            "Epoch 34\n",
            "........mini-batch no. 12 loss: 0.9874\n",
            "....train loss: 1.0015 :: EER 0.1569 :: Canc_EER 0.4937 :: D_sys 0.7562\n",
            "....valid loss: 1.0052 :: EER 0.1489 :: Canc_EER 0.5071 :: D_sys 0.6878\n",
            "Epoch 35\n",
            "........mini-batch no. 12 loss: 1.1021\n",
            "....train loss: 1.0013 :: EER 0.1569 :: Canc_EER 0.4973 :: D_sys 0.7597\n",
            "....valid loss: 1.0052 :: EER 0.1596 :: Canc_EER 0.5160 :: D_sys 0.6958\n",
            "Epoch 36\n",
            "........mini-batch no. 12 loss: 1.0090\n",
            "....train loss: 1.0011 :: EER 0.1622 :: Canc_EER 0.4940 :: D_sys 0.7669\n",
            "....valid loss: 1.0057 :: EER 0.1755 :: Canc_EER 0.5106 :: D_sys 0.6906\n",
            "Epoch 37\n",
            "........mini-batch no. 12 loss: 1.0590\n",
            "....train loss: 1.0008 :: EER 0.1622 :: Canc_EER 0.4940 :: D_sys 0.7755\n",
            "....valid loss: 1.0061 :: EER 0.1809 :: Canc_EER 0.5053 :: D_sys 0.6925\n",
            "Epoch 38\n",
            "........mini-batch no. 12 loss: 1.0659\n",
            "....train loss: 1.0007 :: EER 0.1596 :: Canc_EER 0.4920 :: D_sys 0.7823\n",
            "....valid loss: 1.0052 :: EER 0.1809 :: Canc_EER 0.5000 :: D_sys 0.7010\n",
            "Epoch 39\n",
            "........mini-batch no. 12 loss: 1.0209\n",
            "....train loss: 1.0004 :: EER 0.1612 :: Canc_EER 0.4920 :: D_sys 0.7865\n",
            "....valid loss: 1.0052 :: EER 0.1915 :: Canc_EER 0.5106 :: D_sys 0.6907\n",
            "Epoch 40\n",
            "........mini-batch no. 12 loss: 1.0359\n",
            "....train loss: 1.0002 :: EER 0.1587 :: Canc_EER 0.4963 :: D_sys 0.7861\n",
            "....valid loss: 1.0057 :: EER 0.1879 :: Canc_EER 0.5000 :: D_sys 0.6821\n",
            "Epoch 41\n",
            "........mini-batch no. 12 loss: 1.0399\n",
            "....train loss: 1.0001 :: EER 0.1516 :: Canc_EER 0.4947 :: D_sys 0.7795\n",
            "....valid loss: 1.0055 :: EER 0.1702 :: Canc_EER 0.5000 :: D_sys 0.6858\n",
            "Epoch 42\n",
            "........mini-batch no. 12 loss: 1.0065\n",
            "....train loss: 0.9997 :: EER 0.1543 :: Canc_EER 0.4935 :: D_sys 0.7738\n",
            "....valid loss: 1.0053 :: EER 0.1702 :: Canc_EER 0.5000 :: D_sys 0.6891\n",
            "Epoch 43\n",
            "........mini-batch no. 12 loss: 1.0533\n",
            "....train loss: 0.9996 :: EER 0.1469 :: Canc_EER 0.4947 :: D_sys 0.7806\n",
            "....valid loss: 1.0052 :: EER 0.1702 :: Canc_EER 0.5053 :: D_sys 0.6999\n",
            "Epoch 44\n",
            "........mini-batch no. 12 loss: 1.0334\n",
            "....train loss: 0.9997 :: EER 0.1423 :: Canc_EER 0.4934 :: D_sys 0.7861\n",
            "....valid loss: 1.0054 :: EER 0.1702 :: Canc_EER 0.5000 :: D_sys 0.7092\n",
            "Epoch 45\n",
            "........mini-batch no. 12 loss: 1.0815\n",
            "....train loss: 0.9995 :: EER 0.1383 :: Canc_EER 0.4905 :: D_sys 0.7923\n",
            "....valid loss: 1.0051 :: EER 0.1543 :: Canc_EER 0.5000 :: D_sys 0.7167\n",
            "Epoch 46\n",
            "........mini-batch no. 12 loss: 1.0459\n",
            "....train loss: 0.9990 :: EER 0.1410 :: Canc_EER 0.4947 :: D_sys 0.7938\n",
            "....valid loss: 1.0051 :: EER 0.1560 :: Canc_EER 0.4915 :: D_sys 0.7153\n",
            "Epoch 47\n",
            "........mini-batch no. 12 loss: 1.0700\n",
            "....train loss: 0.9983 :: EER 0.1463 :: Canc_EER 0.4927 :: D_sys 0.7883\n",
            "....valid loss: 1.0055 :: EER 0.1596 :: Canc_EER 0.4872 :: D_sys 0.7057\n",
            "Epoch 48\n",
            "........mini-batch no. 12 loss: 1.0273\n",
            "....train loss: 0.9980 :: EER 0.1463 :: Canc_EER 0.4907 :: D_sys 0.7878\n",
            "....valid loss: 1.0057 :: EER 0.1489 :: Canc_EER 0.4947 :: D_sys 0.6969\n",
            "Epoch 49\n",
            "........mini-batch no. 12 loss: 1.0408\n",
            "....train loss: 0.9982 :: EER 0.1418 :: Canc_EER 0.4929 :: D_sys 0.7840\n",
            "....valid loss: 1.0058 :: EER 0.1543 :: Canc_EER 0.4894 :: D_sys 0.6970\n",
            "Epoch 50\n",
            "........mini-batch no. 12 loss: 1.0283\n",
            "....train loss: 0.9977 :: EER 0.1410 :: Canc_EER 0.4963 :: D_sys 0.7888\n",
            "....valid loss: 1.0058 :: EER 0.1418 :: Canc_EER 0.5000 :: D_sys 0.7028\n",
            "....Saving...\n"
          ]
        }
      ]
    },
    {
      "cell_type": "code",
      "source": [
        "!python iris_test_secure_attention_model.py"
      ],
      "metadata": {
        "colab": {
          "base_uri": "https://localhost:8080/"
        },
        "id": "UehdG6U7gnZt",
        "outputId": "07cb87d5-f27f-469f-b588-401a058bf9dd"
      },
      "execution_count": 8,
      "outputs": [
        {
          "output_type": "stream",
          "name": "stdout",
          "text": [
            "Testing model: Securetl_Iris_Attention_model_16b_50\n",
            "EER 0.3000 at threshold 0.1385 :: Canc_EER 0.4833 at threshold 0.1078 :: d_sys 0.5210\n",
            "Privacy Leakage Rate 1.0000, Secrecy Leakage 1.3290\n"
          ]
        }
      ]
    },
    {
      "cell_type": "code",
      "source": [],
      "metadata": {
        "id": "7vazbICDwD9i"
      },
      "execution_count": null,
      "outputs": []
    },
    {
      "cell_type": "markdown",
      "source": [
        "# Result Analysis"
      ],
      "metadata": {
        "id": "DVBF3UwHz-lf"
      }
    },
    {
      "cell_type": "markdown",
      "source": [
        "Vit_b_32 model"
      ],
      "metadata": {
        "id": "a5l1Z4Ft0CZH"
      }
    },
    {
      "cell_type": "code",
      "source": [
        "!python results_analysis.py"
      ],
      "metadata": {
        "id": "Ue8ZO_clgqfK",
        "colab": {
          "base_uri": "https://localhost:8080/"
        },
        "outputId": "7beb331e-37f3-4850-cc4b-1c9f5ea1c22c"
      },
      "execution_count": 44,
      "outputs": [
        {
          "output_type": "stream",
          "name": "stdout",
          "text": [
            "My Method\n",
            "EER 0.18333333333333332\n",
            "FNMR@0.1%FMR 1.0\n",
            "FNMR@1%FMR 0.5\n",
            "\n"
          ]
        }
      ]
    },
    {
      "cell_type": "code",
      "source": [
        "!python results_analysis.py"
      ],
      "metadata": {
        "colab": {
          "base_uri": "https://localhost:8080/"
        },
        "id": "CYE1Hqfu2XPy",
        "outputId": "67a8aac6-388b-450b-e2bb-b07c63a526a7"
      },
      "execution_count": 47,
      "outputs": [
        {
          "output_type": "stream",
          "name": "stdout",
          "text": [
            "My Method\n",
            "EER 0.18333333333333332\n",
            "FNMR@0.1%FMR 1.0\n",
            "FNMR@1%FMR 0.5\n",
            "FMR_C@EER 0.8333333333333334\n",
            "d_sys 0.7767482447297911\n",
            "\n"
          ]
        }
      ]
    },
    {
      "cell_type": "markdown",
      "source": [
        "Inception-resnet model"
      ],
      "metadata": {
        "id": "kqi_Ad9M0G4n"
      }
    },
    {
      "cell_type": "code",
      "source": [
        "!python results_analysis.py"
      ],
      "metadata": {
        "id": "ef06w86XklrN",
        "colab": {
          "base_uri": "https://localhost:8080/"
        },
        "outputId": "ce3af839-3af5-4b6e-dcfc-a684a0b2dc82"
      },
      "execution_count": 45,
      "outputs": [
        {
          "output_type": "stream",
          "name": "stdout",
          "text": [
            "My Method\n",
            "EER 0.25\n",
            "FNMR@0.1%FMR 1.0\n",
            "FNMR@1%FMR 0.8833333333333333\n",
            "\n"
          ]
        }
      ]
    },
    {
      "cell_type": "code",
      "source": [
        "!python results_analysis.py"
      ],
      "metadata": {
        "colab": {
          "base_uri": "https://localhost:8080/"
        },
        "id": "vu1YL08v2TCX",
        "outputId": "29997c27-0ecd-4edf-a5fd-529276743924"
      },
      "execution_count": 46,
      "outputs": [
        {
          "output_type": "stream",
          "name": "stdout",
          "text": [
            "My Method\n",
            "EER 0.25\n",
            "FNMR@0.1%FMR 1.0\n",
            "FNMR@1%FMR 0.8833333333333333\n",
            "FMR_C@EER 0.7666666666666667\n",
            "d_sys 0.6983252274290191\n",
            "\n"
          ]
        }
      ]
    },
    {
      "cell_type": "markdown",
      "source": [
        "Vit_b_16 model"
      ],
      "metadata": {
        "id": "Upl8UytwwYtr"
      }
    },
    {
      "cell_type": "code",
      "source": [
        "!python results_analysis.py"
      ],
      "metadata": {
        "colab": {
          "base_uri": "https://localhost:8080/"
        },
        "id": "TONz33H7uDlm",
        "outputId": "e7363515-14cf-4791-8f9f-4cb3a15f21ff"
      },
      "execution_count": 10,
      "outputs": [
        {
          "output_type": "stream",
          "name": "stdout",
          "text": [
            "Vit_b_16\n",
            "EER 0.3\n",
            "FNMR@0.1%FMR 1.0\n",
            "FNMR@1%FMR 0.8333333333333334\n",
            "FMR_C@EER 0.7\n",
            "d_sys 0.5210334966332928\n",
            "\n"
          ]
        }
      ]
    }
  ]
}